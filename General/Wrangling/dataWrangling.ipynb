{
 "cells": [
  {
   "cell_type": "markdown",
   "id": "962ce72a-d3bd-406f-8d68-34e55c2b7421",
   "metadata": {},
   "source": [
    "## Data Wrangeling"
   ]
  },
  {
   "cell_type": "code",
   "execution_count": null,
   "id": "64cc66b9-73c0-4348-87e0-e3df6156ab6a",
   "metadata": {},
   "outputs": [],
   "source": []
  }
 ],
 "metadata": {
  "kernelspec": {
   "display_name": "Python 3 (ipykernel)",
   "language": "python",
   "name": "python3"
  },
  "language_info": {
   "codemirror_mode": {
    "name": "ipython",
    "version": 3
   },
   "file_extension": ".py",
   "mimetype": "text/x-python",
   "name": "python",
   "nbconvert_exporter": "python",
   "pygments_lexer": "ipython3",
   "version": "3.9.13"
  }
 },
 "nbformat": 4,
 "nbformat_minor": 5
}
