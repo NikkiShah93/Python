{
 "cells": [
  {
   "cell_type": "markdown",
   "id": "a66e5afb-e4f9-4f78-8357-0f1302e691f0",
   "metadata": {},
   "source": [
    "## Linear Algebra"
   ]
  },
  {
   "cell_type": "code",
   "execution_count": 1,
   "id": "aae5bc10-2491-478f-a27a-57ef0348c89d",
   "metadata": {},
   "outputs": [],
   "source": [
    "import numpy as np\n",
    "import matplotlib.pyplot as plt"
   ]
  },
  {
   "cell_type": "code",
   "execution_count": 3,
   "id": "08a168ec-073d-4cbf-bd86-60519f05957c",
   "metadata": {},
   "outputs": [
    {
     "name": "stdout",
     "output_type": "stream",
     "text": [
      "[-1 -1]\n",
      "[ 0 -3]\n"
     ]
    }
   ],
   "source": [
    "## starting with vectors\n",
    "\n",
    "v1 = np.array([1, -2])\n",
    "v2 = np.array([-2, 1])\n",
    "print(v1 + v2)\n",
    "print(2*v1 + v2)"
   ]
  },
  {
   "cell_type": "code",
   "execution_count": null,
   "id": "628a86f7-9ae3-4754-97ef-d5775583b208",
   "metadata": {},
   "outputs": [],
   "source": []
  }
 ],
 "metadata": {
  "kernelspec": {
   "display_name": "Python 3 (ipykernel)",
   "language": "python",
   "name": "python3"
  },
  "language_info": {
   "codemirror_mode": {
    "name": "ipython",
    "version": 3
   },
   "file_extension": ".py",
   "mimetype": "text/x-python",
   "name": "python",
   "nbconvert_exporter": "python",
   "pygments_lexer": "ipython3",
   "version": "3.9.13"
  }
 },
 "nbformat": 4,
 "nbformat_minor": 5
}
