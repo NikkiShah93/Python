{
 "cells": [
  {
   "cell_type": "markdown",
   "id": "9ac55ce0-81f7-4aa2-85ce-c7601b57768e",
   "metadata": {},
   "source": [
    "## Numpy Summary\n",
    "\n",
    "In this notebook, we will go through all the important numpy operations and functions that can be useful for math."
   ]
  },
  {
   "cell_type": "code",
   "execution_count": null,
   "id": "1598e574-78af-4b39-a2cb-c9bf04a2db6f",
   "metadata": {},
   "outputs": [],
   "source": []
  }
 ],
 "metadata": {
  "kernelspec": {
   "display_name": "Python 3 (ipykernel)",
   "language": "python",
   "name": "python3"
  },
  "language_info": {
   "codemirror_mode": {
    "name": "ipython",
    "version": 3
   },
   "file_extension": ".py",
   "mimetype": "text/x-python",
   "name": "python",
   "nbconvert_exporter": "python",
   "pygments_lexer": "ipython3",
   "version": "3.9.13"
  }
 },
 "nbformat": 4,
 "nbformat_minor": 5
}
