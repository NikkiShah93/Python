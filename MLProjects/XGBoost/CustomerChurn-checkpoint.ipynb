{
 "cells": [
  {
   "cell_type": "markdown",
   "id": "e367cd59-35e4-4ec5-a2c8-be0d7b743cb9",
   "metadata": {},
   "source": [
    "## XGBoost Customer Churn Project\n",
    "\n",
    "In this notebook, we will use XGBoost to build a collection of boosted trees, using the [Telco Customer Churn](https://www.kaggle.com/datasets/blastchar/telco-customer-churn) data from Kaggle."
   ]
  },
  {
   "cell_type": "code",
   "execution_count": null,
   "id": "78800d03-a29f-48b3-ab74-f89806366d8e",
   "metadata": {},
   "outputs": [],
   "source": []
  }
 ],
 "metadata": {
  "kernelspec": {
   "display_name": "Python 3 (ipykernel)",
   "language": "python",
   "name": "python3"
  },
  "language_info": {
   "codemirror_mode": {
    "name": "ipython",
    "version": 3
   },
   "file_extension": ".py",
   "mimetype": "text/x-python",
   "name": "python",
   "nbconvert_exporter": "python",
   "pygments_lexer": "ipython3",
   "version": "3.9.13"
  }
 },
 "nbformat": 4,
 "nbformat_minor": 5
}
