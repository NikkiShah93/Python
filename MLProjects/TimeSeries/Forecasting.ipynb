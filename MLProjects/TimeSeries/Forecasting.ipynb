{
 "cells": [
  {
   "cell_type": "markdown",
   "id": "7b2bc61a-5efc-48eb-aa36-ce98aeb939eb",
   "metadata": {},
   "source": [
    "## Forcasting with Facebook Prophet\n",
    "\n",
    "In this project, we will be using the *Facebook Prophet* to forecaset a time series.\n",
    "\n",
    "Steps are as follows:\n",
    "- Loading/preparing the data\n",
    "- Build a model\n",
    "- Train the model\n",
    "- Make predictions with the model"
   ]
  },
  {
   "cell_type": "code",
   "execution_count": null,
   "id": "25e9fb14-e94d-4bce-8cc6-1c10e6762bad",
   "metadata": {},
   "outputs": [],
   "source": []
  }
 ],
 "metadata": {
  "kernelspec": {
   "display_name": "Python 3 (ipykernel)",
   "language": "python",
   "name": "python3"
  },
  "language_info": {
   "codemirror_mode": {
    "name": "ipython",
    "version": 3
   },
   "file_extension": ".py",
   "mimetype": "text/x-python",
   "name": "python",
   "nbconvert_exporter": "python",
   "pygments_lexer": "ipython3",
   "version": "3.9.13"
  }
 },
 "nbformat": 4,
 "nbformat_minor": 5
}
