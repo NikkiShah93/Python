{
 "cells": [
  {
   "cell_type": "markdown",
   "id": "5ef97d09-2a46-4835-a48d-f078c3c8d0ff",
   "metadata": {},
   "source": [
    "## NLP with Spacy\n",
    "\n",
    "In this notebook we will go through the Spacy library and work on NLP projects that it can enable us to solve."
   ]
  },
  {
   "cell_type": "code",
   "execution_count": null,
   "id": "8d11310e-6492-45fb-a71c-7b419c14871a",
   "metadata": {},
   "outputs": [],
   "source": [
    "## first we need to install the packages required\n",
    "!pip install spacy\n",
    "!pip install ruamel-yaml\n",
    "\n",
    "## and we also need the en library\n",
    "## which we need to download\n",
    "!python -m spacy download en_core_web_sm"
   ]
  },
  {
   "cell_type": "code",
   "execution_count": 7,
   "id": "548264ac-aeec-4fca-80c4-0b4a2e149173",
   "metadata": {},
   "outputs": [],
   "source": [
    "## import the library\n",
    "import spacy\n",
    "## and then load the small en model into an object\n",
    "nlp = spacy.load('en_core_web_sm')"
   ]
  },
  {
   "cell_type": "code",
   "execution_count": null,
   "id": "4b256ed3-bded-4927-8917-6850da4eb1ef",
   "metadata": {},
   "outputs": [],
   "source": []
  }
 ],
 "metadata": {
  "kernelspec": {
   "display_name": "Python 3 (ipykernel)",
   "language": "python",
   "name": "python3"
  },
  "language_info": {
   "codemirror_mode": {
    "name": "ipython",
    "version": 3
   },
   "file_extension": ".py",
   "mimetype": "text/x-python",
   "name": "python",
   "nbconvert_exporter": "python",
   "pygments_lexer": "ipython3",
   "version": "3.9.13"
  }
 },
 "nbformat": 4,
 "nbformat_minor": 5
}
