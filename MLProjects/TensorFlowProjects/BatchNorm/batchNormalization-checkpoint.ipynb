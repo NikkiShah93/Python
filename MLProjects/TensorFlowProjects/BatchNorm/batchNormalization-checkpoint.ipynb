{
 "cells": [
  {
   "cell_type": "markdown",
   "id": "af7ff288-697e-4bac-9353-f80a16d9264c",
   "metadata": {},
   "source": [
    "## MNIST with Batch Normalization\n"
   ]
  },
  {
   "cell_type": "code",
   "execution_count": 66,
   "id": "4091a585-0214-46be-add5-5ae465de9721",
   "metadata": {},
   "outputs": [],
   "source": [
    "import tensorflow\n",
    "from tensorflow import keras\n",
    "import matplotlib.pyplot as plt\n",
    "import numpy as np"
   ]
  },
  {
   "cell_type": "code",
   "execution_count": 77,
   "id": "fbe3a945-169d-4e56-98f2-fb364093e165",
   "metadata": {},
   "outputs": [
    {
     "data": {
      "text/plain": [
       "<matplotlib.image.AxesImage at 0x2667b3e1610>"
      ]
     },
     "execution_count": 77,
     "metadata": {},
     "output_type": "execute_result"
    },
    {
     "data": {
      "image/png": "[encoded data removed]",
      "text/plain": [
       "<Figure size 400x400 with 1 Axes>"
      ]
     },
     "metadata": {},
     "output_type": "display_data"
    }
   ],
   "source": [
    "## for this project\n",
    "## we'll be using the mnist dataset\n",
    "(x_train, y_train), (x_test, y_test) = keras.datasets.mnist.load_data()\n",
    "## making sure the datasets have (28, 28, 1) shape\n",
    "x_train, x_test = np.expand_dims(x_train, -1), np.expand_dims(x_test, -1)\n",
    "input_size = (28, 28, 1)\n",
    "## converting the lables to categories\n",
    "## we have 10 digit in the set\n",
    "## so the # of classes will be 10\n",
    "n_classes = 10\n",
    "y_train, y_test = keras.utils.to_categorical(y_train, n_classes), keras.utils.to_categorical(y_train, n_classes)\n",
    "## checking the images\n",
    "plt.figure(figsize=(4, 4))\n",
    "plt.imshow(x_train[12], cmap='Greys')"
   ]
  },
  {
   "cell_type": "code",
   "execution_count": 84,
   "id": "de9f1d5b-6d07-4a63-b997-996cdf998b05",
   "metadata": {},
   "outputs": [
    {
     "name": "stdout",
     "output_type": "stream",
     "text": [
      "\u001b[1m313/313\u001b[0m \u001b[32m━━━━━━━━━━━━━━━━━━━━\u001b[0m\u001b[37m\u001b[0m \u001b[1m1s\u001b[0m 2ms/step - accuracy: 0.9751 - loss: 0.3271\n",
      "test loss: 0.2964291274547577, test accuracy: 97.7400004863739%\n"
     ]
    }
   ],
   "source": [
    "## next, we will create our model\n",
    "## we can manually normalize our data\n",
    "## beforehand, or simply have the batch normalization\n",
    "## as the first step in our model\n",
    "## and since we're using the bn\n",
    "## there's already a bias added to the data\n",
    "## we can simply get rid of the bias in the layer\n",
    "model = keras.Sequential(\n",
    "    [\n",
    "     keras.Input(input_size),\n",
    "     keras.layers.Flatten(),\n",
    "     keras.layers.BatchNormalization(),\n",
    "     keras.layers.Dense(300, use_bias=False),\n",
    "     keras.layers.BatchNormalization(),\n",
    "     keras.layers.Activation('relu'),\n",
    "     keras.layers.Dense(100, use_bias=False),\n",
    "     keras.layers.BatchNormalization(),\n",
    "     keras.layers.Activation('relu'),\n",
    "     keras.layers.Dense(n_classes,'softmax', {'axis':-1})\n",
    "    ]\n",
    ")\n",
    "\n",
    "## defining our params\n",
    "epochs = 20\n",
    "learning_rate = 1e-2\n",
    "\n",
    "## creating our loss and optimizer\n",
    "criterion = keras.losses.sparse_categorical_crossentropy\n",
    "optimizer = keras.optimizers.Adam(learning_rate=learning_rate)\n",
    "model.compile(loss=criterion, optimizer=optimizer, \n",
    "             metrics=['accuracy'])\n",
    "X, y = train\n",
    "X_test, y_test = test\n",
    "model.fit(X,y, epochs=epochs, batch_size = 128, verbose=0, validation_split=.2)\n",
    "score = model.evaluate(X_test, y_test)\n",
    "print(f'test loss: {score[0]}, test accuracy: {score[1]*100}%')"
   ]
  },
  {
   "cell_type": "code",
   "execution_count": null,
   "id": "93d1b4e2-0164-458a-adb6-ecff92edff75",
   "metadata": {},
   "outputs": [],
   "source": []
  }
 ],
 "metadata": {
  "kernelspec": {
   "display_name": "Python 3 (ipykernel)",
   "language": "python",
   "name": "python3"
  },
  "language_info": {
   "codemirror_mode": {
    "name": "ipython",
    "version": 3
   },
   "file_extension": ".py",
   "mimetype": "text/x-python",
   "name": "python",
   "nbconvert_exporter": "python",
   "pygments_lexer": "ipython3",
   "version": "3.9.13"
  }
 },
 "nbformat": 4,
 "nbformat_minor": 5
}
