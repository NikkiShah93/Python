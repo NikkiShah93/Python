{
 "cells": [
  {
   "cell_type": "markdown",
   "id": "79d44aea-08e6-40a6-b42d-87c17902a1d2",
   "metadata": {},
   "source": [
    "## PyTorch Model\n",
    "\n",
    "In this project we will go through the following models:\n",
    "\n",
    "- Tensor Basics - Create, operation, GPU support\n",
    "- Autograd - Linear regression model\n",
    "- Training Loop with: Model, Loss, and Optimizer\n",
    "- Neural Network - Datasets, DataLoader, Transforms, and Evaluation\n",
    "- Convolutional Neural Network - save/load model"
   ]
  },
  {
   "cell_type": "code",
   "execution_count": null,
   "id": "aaff0196-a706-47e8-a7e3-1fe57cfeeb5d",
   "metadata": {},
   "outputs": [],
   "source": []
  }
 ],
 "metadata": {
  "kernelspec": {
   "display_name": "Python 3 (ipykernel)",
   "language": "python",
   "name": "python3"
  },
  "language_info": {
   "codemirror_mode": {
    "name": "ipython",
    "version": 3
   },
   "file_extension": ".py",
   "mimetype": "text/x-python",
   "name": "python",
   "nbconvert_exporter": "python",
   "pygments_lexer": "ipython3",
   "version": "3.9.13"
  }
 },
 "nbformat": 4,
 "nbformat_minor": 5
}
