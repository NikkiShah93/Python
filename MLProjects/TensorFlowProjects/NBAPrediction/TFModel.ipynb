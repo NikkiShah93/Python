{
 "cells": [
  {
   "cell_type": "markdown",
   "id": "0a8b982b-cc76-4009-ad4e-1c579349606a",
   "metadata": {},
   "source": [
    "## TensorFlow Model\n",
    "\n",
    "In this project, we will use TensorFlow to predict the value of NBA players, based on different features. "
   ]
  },
  {
   "cell_type": "code",
   "execution_count": 3,
   "id": "c0b3be5b-74f2-49ff-8666-c1a4cf2787a2",
   "metadata": {},
   "outputs": [],
   "source": [
    "## first the general imports\n",
    "import tensorflow as tf\n",
    "from tensorflow import keras\n",
    "from tensorflow.keras import layers\n",
    "import numpy as np\n",
    "import pandas as pd\n",
    "import seaborn as sns\n",
    "import matplotlib.pyplot as plt\n",
    "\n",
    "## the training and test data related packages\n",
    "from sklearn.model_selection import train_test_split\n",
    "from sklearn.preprocessing import MinMaxScaler, OneHotEncoder\n",
    "from sklearn.compose import make_column_transformer\n",
    "\n",
    "## math related packages\n",
    "from tensorflow import math\n",
    "\n",
    "from tensorflow.keras.utils import plot_model\n",
    "\n",
    "## testing to see if using TensorFlow GPU\n",
    "if (tf.config.list_physical_devices('GPU')):\n",
    "    print('Yes')"
   ]
  },
  {
   "cell_type": "code",
   "execution_count": null,
   "id": "065a8751-36e9-4736-bf62-bd6258b08241",
   "metadata": {},
   "outputs": [],
   "source": []
  }
 ],
 "metadata": {
  "kernelspec": {
   "display_name": "Python 3 (ipykernel)",
   "language": "python",
   "name": "python3"
  },
  "language_info": {
   "codemirror_mode": {
    "name": "ipython",
    "version": 3
   },
   "file_extension": ".py",
   "mimetype": "text/x-python",
   "name": "python",
   "nbconvert_exporter": "python",
   "pygments_lexer": "ipython3",
   "version": "3.9.13"
  }
 },
 "nbformat": 4,
 "nbformat_minor": 5
}
