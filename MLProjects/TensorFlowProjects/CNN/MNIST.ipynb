{
 "cells": [
  {
   "cell_type": "markdown",
   "id": "9bd1ce57-23e4-4575-9dbc-dece4222ed89",
   "metadata": {},
   "source": [
    "## Using CNN for MNIST set"
   ]
  },
  {
   "cell_type": "code",
   "execution_count": 1,
   "id": "470b2086-c2dd-41f2-9628-b2d909204790",
   "metadata": {},
   "outputs": [],
   "source": [
    "import tensorflow\n",
    "from tensorflow import keras\n",
    "import numpy as np\n",
    "import matplotlib.pyplot as plt"
   ]
  },
  {
   "cell_type": "code",
   "execution_count": 3,
   "id": "7b865cdd-996d-4312-9960-76d51d5a4f24",
   "metadata": {},
   "outputs": [
    {
     "data": {
      "text/plain": [
       "<matplotlib.image.AxesImage at 0x204af0fc880>"
      ]
     },
     "execution_count": 3,
     "metadata": {},
     "output_type": "execute_result"
    },
    {
     "data": {
      "image/png": "[encoded data removed]",
      "text/plain": [
       "<Figure size 400x400 with 1 Axes>"
      ]
     },
     "metadata": {},
     "output_type": "display_data"
    }
   ],
   "source": [
    "## we'll be using MNIST for our model\n",
    "(X_train, y_train), (X_test, y_test) = keras.datasets.mnist.load_data()\n",
    "## making sure the data is in correct shape\n",
    "input_shape = (28, 28, 1)\n",
    "n_classes = 10\n",
    "X_train, X_test = np.expand_dims(X_train, -1), np.expand_dims(X_test, -1)\n",
    "## we also need our lables to be categories\n",
    "y_train, y_test = keras.utils.to_categorical(y_train, n_classes), keras.utils.to_categorical(y_test, n_classes)\n",
    "\n",
    "## showing a sample image\n",
    "plt.figure(figsize=(4,4))\n",
    "plt.imshow(X_train[12].squeeze(), cmap='Blues')"
   ]
  },
  {
   "cell_type": "code",
   "execution_count": 11,
   "id": "87cffbf9-b835-4990-bb1f-cd4083b9e25f",
   "metadata": {},
   "outputs": [
    {
     "name": "stdout",
     "output_type": "stream",
     "text": [
      "\u001b[1m313/313\u001b[0m \u001b[32m━━━━━━━━━━━━━━━━━━━━\u001b[0m\u001b[37m\u001b[0m \u001b[1m2s\u001b[0m 5ms/step - accuracy: 0.9870 - loss: 0.0511\n",
      "The loss is 0.043404970318078995 and the accuracy is 98.89000058174133%\n"
     ]
    }
   ],
   "source": [
    "## the next step is to create the model\n",
    "## we'll be using the sequential model\n",
    "model = keras.Sequential([\n",
    "    keras.Input(input_shape),\n",
    "    keras.layers.Conv2D(32,kernel_size=(3, 3)),\n",
    "    keras.layers.Activation('relu'),\n",
    "    keras.layers.MaxPool2D((2,2)),\n",
    "    keras.layers.Conv2D(64, kernel_size=(3,3)),\n",
    "    keras.layers.Activation('relu'),\n",
    "    keras.layers.MaxPool2D((2,2)),\n",
    "    keras.layers.Flatten(),\n",
    "    keras.layers.Dropout(.3),\n",
    "    keras.layers.Dense(n_classes,activation='softmax')\n",
    "])\n",
    "\n",
    "## compiling the model\n",
    "learning_rate = 1e-3\n",
    "batch_size = 128\n",
    "epochs = 20\n",
    "model.compile(loss=keras.losses.CategoricalCrossentropy(),\n",
    "             optimizer=keras.optimizers.Adam(learning_rate=learning_rate),\n",
    "             metrics=['accuracy'])\n",
    "## fitting the model over a certain # of epochs\n",
    "model.fit(X_train, y_train, batch_size=batch_size, epochs=epochs, verbose=0, validation_split=.2)\n",
    "## and then evaluating the model\n",
    "score = model.evaluate(X_test, y_test)\n",
    "print(f'The loss is {score[0]} and the accuracy is {score[1]*100}%')"
   ]
  },
  {
   "cell_type": "code",
   "execution_count": null,
   "id": "e88edd6c-c359-493c-8b9b-dde2a8ed4d14",
   "metadata": {},
   "outputs": [],
   "source": []
  }
 ],
 "metadata": {
  "kernelspec": {
   "display_name": "Python 3 (ipykernel)",
   "language": "python",
   "name": "python3"
  },
  "language_info": {
   "codemirror_mode": {
    "name": "ipython",
    "version": 3
   },
   "file_extension": ".py",
   "mimetype": "text/x-python",
   "name": "python",
   "nbconvert_exporter": "python",
   "pygments_lexer": "ipython3",
   "version": "3.9.13"
  }
 },
 "nbformat": 4,
 "nbformat_minor": 5
}
