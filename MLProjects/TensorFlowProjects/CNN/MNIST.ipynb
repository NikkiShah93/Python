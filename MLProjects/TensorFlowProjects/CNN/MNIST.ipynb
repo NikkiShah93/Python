{
 "cells": [
  {
   "cell_type": "markdown",
   "id": "9bd1ce57-23e4-4575-9dbc-dece4222ed89",
   "metadata": {},
   "source": [
    "## Using CNN for MNIST set"
   ]
  },
  {
   "cell_type": "code",
   "execution_count": 1,
   "id": "470b2086-c2dd-41f2-9628-b2d909204790",
   "metadata": {},
   "outputs": [],
   "source": [
    "import tensorflow\n",
    "from tensorflow import keras\n",
    "import numpy as np\n",
    "import matplotlib.pyplot as plt"
   ]
  },
  {
   "cell_type": "code",
   "execution_count": null,
   "id": "7b865cdd-996d-4312-9960-76d51d5a4f24",
   "metadata": {},
   "outputs": [],
   "source": [
    "## we'll be using MNIST for our model\n",
    "(X_train, y_train), (X_test, y_test) = keras.datasets.mnist.load_data()\n",
    "## making sure the data is in correct shape\n",
    "input_shape = (28, 28, 1)\n",
    "n_classes = 10\n",
    "X_train, X_test = np.expand_dims(X_train, -1), np.expand_dims(X_test, -1)\n",
    "## we also need our lables to be categories\n",
    "y_train, y_test = keras.utils.to_categorical(y_train, n_classes), keras.utils.to_categorical(y_test, n_classes)\n"
   ]
  }
 ],
 "metadata": {
  "kernelspec": {
   "display_name": "Python 3 (ipykernel)",
   "language": "python",
   "name": "python3"
  },
  "language_info": {
   "codemirror_mode": {
    "name": "ipython",
    "version": 3
   },
   "file_extension": ".py",
   "mimetype": "text/x-python",
   "name": "python",
   "nbconvert_exporter": "python",
   "pygments_lexer": "ipython3",
   "version": "3.9.13"
  }
 },
 "nbformat": 4,
 "nbformat_minor": 5
}
