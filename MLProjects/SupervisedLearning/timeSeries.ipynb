{
 "cells": [
  {
   "cell_type": "markdown",
   "id": "1ee8986c-8a95-4ac2-b8a1-b28fe0430a4a",
   "metadata": {},
   "source": [
    "## Time Series Prediction\n",
    "\n",
    "We will be using the [Air Quality Dataset from UCI](https://archive.ics.uci.edu/dataset/360/air+quality) for this project.\n"
   ]
  },
  {
   "cell_type": "code",
   "execution_count": 29,
   "id": "bce397d1-da6d-436e-b274-eb5214a051ab",
   "metadata": {},
   "outputs": [],
   "source": [
    "## the imports \n",
    "import numpy as np\n",
    "import pandas as pd\n",
    "import matplotlib.pyplot as plt\n",
    "import datetime as dt\n",
    "\n",
    "## stat related\n",
    "import statsmodels.api as sm\n",
    "import statsmodels\n",
    "\n",
    "import scipy\n",
    "from scipy.stats import pearsonr\n",
    "\n",
    "from pandas.plotting import register_matplotlib_converters\n",
    "register_matplotlib_converters()"
   ]
  },
  {
   "cell_type": "markdown",
   "id": "ca0cd8f9-6db5-4366-9cce-045642e47ae2",
   "metadata": {},
   "source": [
    "### 1. loading and Visualizing the Data"
   ]
  },
  {
   "cell_type": "code",
   "execution_count": 48,
   "id": "337c962b-7f86-4052-a4d8-05c0e9aa20bb",
   "metadata": {},
   "outputs": [
    {
     "data": {
      "text/html": [
       "<div>\n",
       "<style scoped>\n",
       "    .dataframe tbody tr th:only-of-type {\n",
       "        vertical-align: middle;\n",
       "    }\n",
       "\n",
       "    .dataframe tbody tr th {\n",
       "        vertical-align: top;\n",
       "    }\n",
       "\n",
       "    .dataframe thead th {\n",
       "        text-align: right;\n",
       "    }\n",
       "</style>\n",
       "<table border=\"1\" class=\"dataframe\">\n",
       "  <thead>\n",
       "    <tr style=\"text-align: right;\">\n",
       "      <th></th>\n",
       "      <th>CO(GT)</th>\n",
       "      <th>PT08.S1(CO)</th>\n",
       "      <th>NMHC(GT)</th>\n",
       "      <th>C6H6(GT)</th>\n",
       "      <th>PT08.S2(NMHC)</th>\n",
       "      <th>NOx(GT)</th>\n",
       "      <th>PT08.S3(NOx)</th>\n",
       "      <th>NO2(GT)</th>\n",
       "      <th>PT08.S4(NO2)</th>\n",
       "      <th>PT08.S5(O3)</th>\n",
       "      <th>T</th>\n",
       "      <th>RH</th>\n",
       "      <th>AH</th>\n",
       "    </tr>\n",
       "    <tr>\n",
       "      <th>timestamp</th>\n",
       "      <th></th>\n",
       "      <th></th>\n",
       "      <th></th>\n",
       "      <th></th>\n",
       "      <th></th>\n",
       "      <th></th>\n",
       "      <th></th>\n",
       "      <th></th>\n",
       "      <th></th>\n",
       "      <th></th>\n",
       "      <th></th>\n",
       "      <th></th>\n",
       "      <th></th>\n",
       "    </tr>\n",
       "  </thead>\n",
       "  <tbody>\n",
       "    <tr>\n",
       "      <th>2004-03-10 18:00:00</th>\n",
       "      <td>2.6</td>\n",
       "      <td>1360</td>\n",
       "      <td>150</td>\n",
       "      <td>11.9</td>\n",
       "      <td>1046</td>\n",
       "      <td>166</td>\n",
       "      <td>1056</td>\n",
       "      <td>113</td>\n",
       "      <td>1692</td>\n",
       "      <td>1268</td>\n",
       "      <td>13.6</td>\n",
       "      <td>48.9</td>\n",
       "      <td>0.7578</td>\n",
       "    </tr>\n",
       "    <tr>\n",
       "      <th>2004-03-10 19:00:00</th>\n",
       "      <td>2.0</td>\n",
       "      <td>1292</td>\n",
       "      <td>112</td>\n",
       "      <td>9.4</td>\n",
       "      <td>955</td>\n",
       "      <td>103</td>\n",
       "      <td>1174</td>\n",
       "      <td>92</td>\n",
       "      <td>1559</td>\n",
       "      <td>972</td>\n",
       "      <td>13.3</td>\n",
       "      <td>47.7</td>\n",
       "      <td>0.7255</td>\n",
       "    </tr>\n",
       "    <tr>\n",
       "      <th>2004-03-10 20:00:00</th>\n",
       "      <td>2.2</td>\n",
       "      <td>1402</td>\n",
       "      <td>88</td>\n",
       "      <td>9.0</td>\n",
       "      <td>939</td>\n",
       "      <td>131</td>\n",
       "      <td>1140</td>\n",
       "      <td>114</td>\n",
       "      <td>1555</td>\n",
       "      <td>1074</td>\n",
       "      <td>11.9</td>\n",
       "      <td>54.0</td>\n",
       "      <td>0.7502</td>\n",
       "    </tr>\n",
       "    <tr>\n",
       "      <th>2004-03-10 21:00:00</th>\n",
       "      <td>2.2</td>\n",
       "      <td>1376</td>\n",
       "      <td>80</td>\n",
       "      <td>9.2</td>\n",
       "      <td>948</td>\n",
       "      <td>172</td>\n",
       "      <td>1092</td>\n",
       "      <td>122</td>\n",
       "      <td>1584</td>\n",
       "      <td>1203</td>\n",
       "      <td>11.0</td>\n",
       "      <td>60.0</td>\n",
       "      <td>0.7867</td>\n",
       "    </tr>\n",
       "    <tr>\n",
       "      <th>2004-03-10 22:00:00</th>\n",
       "      <td>1.6</td>\n",
       "      <td>1272</td>\n",
       "      <td>51</td>\n",
       "      <td>6.5</td>\n",
       "      <td>836</td>\n",
       "      <td>131</td>\n",
       "      <td>1205</td>\n",
       "      <td>116</td>\n",
       "      <td>1490</td>\n",
       "      <td>1110</td>\n",
       "      <td>11.2</td>\n",
       "      <td>59.6</td>\n",
       "      <td>0.7888</td>\n",
       "    </tr>\n",
       "  </tbody>\n",
       "</table>\n",
       "</div>"
      ],
      "text/plain": [
       "                     CO(GT)  PT08.S1(CO)  NMHC(GT)  C6H6(GT)  PT08.S2(NMHC)  \\\n",
       "timestamp                                                                     \n",
       "2004-03-10 18:00:00     2.6         1360       150      11.9           1046   \n",
       "2004-03-10 19:00:00     2.0         1292       112       9.4            955   \n",
       "2004-03-10 20:00:00     2.2         1402        88       9.0            939   \n",
       "2004-03-10 21:00:00     2.2         1376        80       9.2            948   \n",
       "2004-03-10 22:00:00     1.6         1272        51       6.5            836   \n",
       "\n",
       "                     NOx(GT)  PT08.S3(NOx)  NO2(GT)  PT08.S4(NO2)  \\\n",
       "timestamp                                                           \n",
       "2004-03-10 18:00:00      166          1056      113          1692   \n",
       "2004-03-10 19:00:00      103          1174       92          1559   \n",
       "2004-03-10 20:00:00      131          1140      114          1555   \n",
       "2004-03-10 21:00:00      172          1092      122          1584   \n",
       "2004-03-10 22:00:00      131          1205      116          1490   \n",
       "\n",
       "                     PT08.S5(O3)     T    RH      AH  \n",
       "timestamp                                             \n",
       "2004-03-10 18:00:00         1268  13.6  48.9  0.7578  \n",
       "2004-03-10 19:00:00          972  13.3  47.7  0.7255  \n",
       "2004-03-10 20:00:00         1074  11.9  54.0  0.7502  \n",
       "2004-03-10 21:00:00         1203  11.0  60.0  0.7867  \n",
       "2004-03-10 22:00:00         1110  11.2  59.6  0.7888  "
      ]
     },
     "execution_count": 48,
     "metadata": {},
     "output_type": "execute_result"
    }
   ],
   "source": [
    "data = pd.read_csv('https://archive.ics.uci.edu/static/public/360/data.csv')\n",
    "data['Date'] = pd.to_datetime(data['Date'])\n",
    "data['timestamp'] = data[['Date', 'Time']].astype(str).apply(lambda x:dt.datetime.strptime(x['Date'] +' '+ x['Time'], '%Y-%m-%d %H:%M:%S'), axis=1)\n",
    "data = data.set_index('timestamp')\n",
    "data = data.drop(['Date', 'Time'], axis=1)\n",
    "data.head()"
   ]
  },
  {
   "cell_type": "code",
   "execution_count": 50,
   "id": "c8f19bfe-a5d3-47a6-911f-7666e5a3d0e5",
   "metadata": {},
   "outputs": [
    {
     "data": {
      "image/png": "[encoded data removed]",
      "text/plain": [
       "<Figure size 640x480 with 1 Axes>"
      ]
     },
     "metadata": {},
     "output_type": "display_data"
    }
   ],
   "source": [
    "data['CO(GT)'][:100].plot()\n",
    "data['PT08.S1(CO)'][:100].plot();"
   ]
  },
  {
   "cell_type": "code",
   "execution_count": 27,
   "id": "287a33ec-d8dd-4276-a6b2-f12dcefb2dfa",
   "metadata": {},
   "outputs": [
    {
     "name": "stdout",
     "output_type": "stream",
     "text": [
      "<class 'pandas.core.frame.DataFrame'>\n",
      "Index: 9357 entries, 3/10/2004 to 4/4/2005\n",
      "Data columns (total 14 columns):\n",
      " #   Column         Non-Null Count  Dtype  \n",
      "---  ------         --------------  -----  \n",
      " 0   Time           9357 non-null   object \n",
      " 1   CO(GT)         9357 non-null   float64\n",
      " 2   PT08.S1(CO)    9357 non-null   int64  \n",
      " 3   NMHC(GT)       9357 non-null   int64  \n",
      " 4   C6H6(GT)       9357 non-null   float64\n",
      " 5   PT08.S2(NMHC)  9357 non-null   int64  \n",
      " 6   NOx(GT)        9357 non-null   int64  \n",
      " 7   PT08.S3(NOx)   9357 non-null   int64  \n",
      " 8   NO2(GT)        9357 non-null   int64  \n",
      " 9   PT08.S4(NO2)   9357 non-null   int64  \n",
      " 10  PT08.S5(O3)    9357 non-null   int64  \n",
      " 11  T              9357 non-null   float64\n",
      " 12  RH             9357 non-null   float64\n",
      " 13  AH             9357 non-null   float64\n",
      "dtypes: float64(5), int64(8), object(1)\n",
      "memory usage: 1.1+ MB\n"
     ]
    }
   ],
   "source": [
    "data.info()"
   ]
  },
  {
   "cell_type": "code",
   "execution_count": null,
   "id": "620de622-2558-4e26-896b-6df823c9eb11",
   "metadata": {},
   "outputs": [],
   "source": []
  }
 ],
 "metadata": {
  "kernelspec": {
   "display_name": "Python 3 (ipykernel)",
   "language": "python",
   "name": "python3"
  },
  "language_info": {
   "codemirror_mode": {
    "name": "ipython",
    "version": 3
   },
   "file_extension": ".py",
   "mimetype": "text/x-python",
   "name": "python",
   "nbconvert_exporter": "python",
   "pygments_lexer": "ipython3",
   "version": "3.11.7"
  }
 },
 "nbformat": 4,
 "nbformat_minor": 5
}
