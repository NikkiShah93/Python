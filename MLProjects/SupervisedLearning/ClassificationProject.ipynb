{
 "cells": [
  {
   "cell_type": "markdown",
   "id": "2259a0b6-5fb9-4e3b-bc7c-9a971ef8fdc3",
   "metadata": {},
   "source": [
    "## Classification Model \n",
    "\n",
    "We're using the [MAGIC Gamma Telescope data from UCI repo](https://archive.ics.uci.edu/dataset/159/magic+gamma+telescope) for this project. "
   ]
  },
  {
   "cell_type": "code",
   "execution_count": 11,
   "id": "39b45637-589a-4114-930b-23de4834ac11",
   "metadata": {},
   "outputs": [],
   "source": [
    "## first the imports\n",
    "import numpy as np\n",
    "import pandas as pd\n",
    "import matplotlib.pyplot as plt\n",
    "\n",
    "## the sklearn modules\n",
    "from sklearn.model_selection import GridSearchCV, train_test_split\n",
    "from sklearn.preprocessing import StandardScaler\n",
    "from sklearn.pipeline import Pipeline\n",
    "from sklearn.neighbors import KNeighborsClassifier\n",
    "from sklearn.ensemble import RandomForestClassifier"
   ]
  },
  {
   "cell_type": "code",
   "execution_count": 8,
   "id": "440df273-4a6c-49a3-8bbe-b6d60341a7c5",
   "metadata": {},
   "outputs": [
    {
     "data": {
      "text/html": [
       "<div>\n",
       "<style scoped>\n",
       "    .dataframe tbody tr th:only-of-type {\n",
       "        vertical-align: middle;\n",
       "    }\n",
       "\n",
       "    .dataframe tbody tr th {\n",
       "        vertical-align: top;\n",
       "    }\n",
       "\n",
       "    .dataframe thead th {\n",
       "        text-align: right;\n",
       "    }\n",
       "</style>\n",
       "<table border=\"1\" class=\"dataframe\">\n",
       "  <thead>\n",
       "    <tr style=\"text-align: right;\">\n",
       "      <th></th>\n",
       "      <th>fLength</th>\n",
       "      <th>fWidth</th>\n",
       "      <th>fSize</th>\n",
       "      <th>fConc</th>\n",
       "      <th>fConc1</th>\n",
       "      <th>fAsym</th>\n",
       "      <th>fM3Long</th>\n",
       "      <th>fM3Trans</th>\n",
       "      <th>fAlpha</th>\n",
       "      <th>fDist</th>\n",
       "      <th>class</th>\n",
       "    </tr>\n",
       "  </thead>\n",
       "  <tbody>\n",
       "    <tr>\n",
       "      <th>0</th>\n",
       "      <td>28.7967</td>\n",
       "      <td>16.0021</td>\n",
       "      <td>2.6449</td>\n",
       "      <td>0.3918</td>\n",
       "      <td>0.1982</td>\n",
       "      <td>27.7004</td>\n",
       "      <td>22.0110</td>\n",
       "      <td>-8.2027</td>\n",
       "      <td>40.0920</td>\n",
       "      <td>81.8828</td>\n",
       "      <td>g</td>\n",
       "    </tr>\n",
       "    <tr>\n",
       "      <th>1</th>\n",
       "      <td>31.6036</td>\n",
       "      <td>11.7235</td>\n",
       "      <td>2.5185</td>\n",
       "      <td>0.5303</td>\n",
       "      <td>0.3773</td>\n",
       "      <td>26.2722</td>\n",
       "      <td>23.8238</td>\n",
       "      <td>-9.9574</td>\n",
       "      <td>6.3609</td>\n",
       "      <td>205.2610</td>\n",
       "      <td>g</td>\n",
       "    </tr>\n",
       "    <tr>\n",
       "      <th>2</th>\n",
       "      <td>162.0520</td>\n",
       "      <td>136.0310</td>\n",
       "      <td>4.0612</td>\n",
       "      <td>0.0374</td>\n",
       "      <td>0.0187</td>\n",
       "      <td>116.7410</td>\n",
       "      <td>-64.8580</td>\n",
       "      <td>-45.2160</td>\n",
       "      <td>76.9600</td>\n",
       "      <td>256.7880</td>\n",
       "      <td>g</td>\n",
       "    </tr>\n",
       "    <tr>\n",
       "      <th>3</th>\n",
       "      <td>23.8172</td>\n",
       "      <td>9.5728</td>\n",
       "      <td>2.3385</td>\n",
       "      <td>0.6147</td>\n",
       "      <td>0.3922</td>\n",
       "      <td>27.2107</td>\n",
       "      <td>-6.4633</td>\n",
       "      <td>-7.1513</td>\n",
       "      <td>10.4490</td>\n",
       "      <td>116.7370</td>\n",
       "      <td>g</td>\n",
       "    </tr>\n",
       "    <tr>\n",
       "      <th>4</th>\n",
       "      <td>75.1362</td>\n",
       "      <td>30.9205</td>\n",
       "      <td>3.1611</td>\n",
       "      <td>0.3168</td>\n",
       "      <td>0.1832</td>\n",
       "      <td>-5.5277</td>\n",
       "      <td>28.5525</td>\n",
       "      <td>21.8393</td>\n",
       "      <td>4.6480</td>\n",
       "      <td>356.4620</td>\n",
       "      <td>g</td>\n",
       "    </tr>\n",
       "  </tbody>\n",
       "</table>\n",
       "</div>"
      ],
      "text/plain": [
       "    fLength    fWidth   fSize   fConc  fConc1     fAsym  fM3Long  fM3Trans  \\\n",
       "0   28.7967   16.0021  2.6449  0.3918  0.1982   27.7004  22.0110   -8.2027   \n",
       "1   31.6036   11.7235  2.5185  0.5303  0.3773   26.2722  23.8238   -9.9574   \n",
       "2  162.0520  136.0310  4.0612  0.0374  0.0187  116.7410 -64.8580  -45.2160   \n",
       "3   23.8172    9.5728  2.3385  0.6147  0.3922   27.2107  -6.4633   -7.1513   \n",
       "4   75.1362   30.9205  3.1611  0.3168  0.1832   -5.5277  28.5525   21.8393   \n",
       "\n",
       "    fAlpha     fDist class  \n",
       "0  40.0920   81.8828     g  \n",
       "1   6.3609  205.2610     g  \n",
       "2  76.9600  256.7880     g  \n",
       "3  10.4490  116.7370     g  \n",
       "4   4.6480  356.4620     g  "
      ]
     },
     "execution_count": 8,
     "metadata": {},
     "output_type": "execute_result"
    }
   ],
   "source": [
    "## reading the data from its url\n",
    "## and checking the overall format\n",
    "magic_gamma = pd.read_csv('https://archive.ics.uci.edu/static/public/159/data.csv')\n",
    "magic_gamma.head()"
   ]
  },
  {
   "cell_type": "code",
   "execution_count": 9,
   "id": "d5f915f8-cf0a-44af-bbba-2db1fc97315a",
   "metadata": {},
   "outputs": [
    {
     "name": "stdout",
     "output_type": "stream",
     "text": [
      "<class 'pandas.core.frame.DataFrame'>\n",
      "RangeIndex: 19020 entries, 0 to 19019\n",
      "Data columns (total 11 columns):\n",
      " #   Column    Non-Null Count  Dtype  \n",
      "---  ------    --------------  -----  \n",
      " 0   fLength   19020 non-null  float64\n",
      " 1   fWidth    19020 non-null  float64\n",
      " 2   fSize     19020 non-null  float64\n",
      " 3   fConc     19020 non-null  float64\n",
      " 4   fConc1    19020 non-null  float64\n",
      " 5   fAsym     19020 non-null  float64\n",
      " 6   fM3Long   19020 non-null  float64\n",
      " 7   fM3Trans  19020 non-null  float64\n",
      " 8   fAlpha    19020 non-null  float64\n",
      " 9   fDist     19020 non-null  float64\n",
      " 10  class     19020 non-null  object \n",
      "dtypes: float64(10), object(1)\n",
      "memory usage: 1.6+ MB\n"
     ]
    }
   ],
   "source": [
    "magic_gamma.info()"
   ]
  },
  {
   "cell_type": "code",
   "execution_count": 10,
   "id": "c5494796-00ba-4848-97a4-6444603b1be0",
   "metadata": {},
   "outputs": [
    {
     "name": "stdout",
     "output_type": "stream",
     "text": [
      "<class 'pandas.core.frame.DataFrame'>\n",
      "RangeIndex: 19020 entries, 0 to 19019\n",
      "Data columns (total 12 columns):\n",
      " #   Column    Non-Null Count  Dtype  \n",
      "---  ------    --------------  -----  \n",
      " 0   flength   19020 non-null  float64\n",
      " 1   fwidth    19020 non-null  float64\n",
      " 2   fsize     19020 non-null  float64\n",
      " 3   fconc     19020 non-null  float64\n",
      " 4   fconc1    19020 non-null  float64\n",
      " 5   fasym     19020 non-null  float64\n",
      " 6   fm3long   19020 non-null  float64\n",
      " 7   fm3trans  19020 non-null  float64\n",
      " 8   falpha    19020 non-null  float64\n",
      " 9   fdist     19020 non-null  float64\n",
      " 10  class_g   19020 non-null  uint8  \n",
      " 11  class_h   19020 non-null  uint8  \n",
      "dtypes: float64(10), uint8(2)\n",
      "memory usage: 1.5 MB\n"
     ]
    }
   ],
   "source": [
    "## changing the types for improving the memory usage\n",
    "def data_cleaner(df):\n",
    "    datatype_dict = {}\n",
    "    df.columns = [x.replace(r'\\s+', '_').lower() for x in df.columns]\n",
    "    for col in df.columns:\n",
    "        ## dropping the columns that are mostly null values\n",
    "        if df[col].isnull().sum()/df.shape[0] >= 0.5:\n",
    "            df.drop(col, axis=1, inplace=True)\n",
    "        elif df[col].dtype == 'object' and df[col].nunique() < 10:\n",
    "            df[col] = df[col].str.replace(r'\\s+','_', regex = True).str.lower()\n",
    "            df = pd.get_dummies(data=df, columns = [col])\n",
    "        elif df[col].dtype == 'object':\n",
    "            df.drop(col, axis=1, inplace=True)\n",
    "        elif df[col].dtype in ['float64', 'float32'] and df[col].min() == df.astype({col:'float16'})[col].min:\n",
    "            datatype_dict[col] = 'float16'\n",
    "        elif df[col].dtype == 'float64' and df[col].min() == df.astype({col:'float32'})[col].min:\n",
    "            datatype_dict[col] = 'float32'\n",
    "        elif df[col].dtype in ['int64', 'int32', 'int16'] and df[col].min() == df.astype({col:'int8'})[col].min:\n",
    "            datatype_dict[col] = 'int8'\n",
    "        elif df[col].dtype in ['int64', 'int32'] and df[col].min() == df.astype({col:'int16'})[col].min:\n",
    "            datatype_dict[col] = 'int16'\n",
    "        elif df[col].dtype in ['int64'] and df[col].min() == df.astype({col:'int32'})[col].min:\n",
    "            datatype_dict[col] = 'int32'\n",
    "    return df.astype(datatype_dict)\n",
    "cleaned_magic = data_cleaner(magic_gamma.copy())\n",
    "cleaned_magic.info()"
   ]
  },
  {
   "cell_type": "code",
   "execution_count": 15,
   "id": "ec349f23-d782-4838-8dbd-ed840aa7289e",
   "metadata": {},
   "outputs": [
    {
     "name": "stdout",
     "output_type": "stream",
     "text": [
      "% of  H : 0.3516298633017876\n",
      "% of  G : 0.6483701366982124\n"
     ]
    }
   ],
   "source": [
    "## getting the proportion of each class\n",
    "print(f\"% of  H : {sum(cleaned_magic['class_h'])/cleaned_magic.shape[0]}\")\n",
    "print(f\"% of  G : {sum(cleaned_magic['class_g'])/cleaned_magic.shape[0]}\")"
   ]
  },
  {
   "cell_type": "markdown",
   "id": "0de2791c-c310-4e79-8b09-d7794c629054",
   "metadata": {},
   "source": [
    "We have fewer H cases compared to G."
   ]
  },
  {
   "cell_type": "code",
   "execution_count": 18,
   "id": "a5e5a2d4-eeb1-43ea-84a9-b65bbb012e2f",
   "metadata": {},
   "outputs": [],
   "source": [
    "## splitting the data\n",
    "random_seed = 60\n",
    "X, y = cleaned_magic.drop(['class_g', 'class_h'], axis=1), cleaned_magic[['class_g', 'class_h']]\n",
    "X_train, X_test, y_train, y_test = train_test_split(X, y, stratify=y, test_size=.2, random_state=random_seed)"
   ]
  },
  {
   "cell_type": "code",
   "execution_count": 20,
   "id": "b14f8142-d176-4db7-a865-eafdaebc993c",
   "metadata": {},
   "outputs": [
    {
     "data": {
      "text/plain": [
       "{'memory': None,\n",
       " 'steps': [('scale', StandardScaler()),\n",
       "  ('model', RandomForestClassifier(random_state=60))],\n",
       " 'verbose': False,\n",
       " 'scale': StandardScaler(),\n",
       " 'model': RandomForestClassifier(random_state=60),\n",
       " 'scale__copy': True,\n",
       " 'scale__with_mean': True,\n",
       " 'scale__with_std': True,\n",
       " 'model__bootstrap': True,\n",
       " 'model__ccp_alpha': 0.0,\n",
       " 'model__class_weight': None,\n",
       " 'model__criterion': 'gini',\n",
       " 'model__max_depth': None,\n",
       " 'model__max_features': 'auto',\n",
       " 'model__max_leaf_nodes': None,\n",
       " 'model__max_samples': None,\n",
       " 'model__min_impurity_decrease': 0.0,\n",
       " 'model__min_samples_leaf': 1,\n",
       " 'model__min_samples_split': 2,\n",
       " 'model__min_weight_fraction_leaf': 0.0,\n",
       " 'model__n_estimators': 100,\n",
       " 'model__n_jobs': None,\n",
       " 'model__oob_score': False,\n",
       " 'model__random_state': 60,\n",
       " 'model__verbose': 0,\n",
       " 'model__warm_start': False}"
      ]
     },
     "execution_count": 20,
     "metadata": {},
     "output_type": "execute_result"
    }
   ],
   "source": [
    "## starting with the pipeline\n",
    "pipe = Pipeline([('scale', StandardScaler()),\n",
    "                ('model', RandomForestClassifier(random_state=random_seed))])\n",
    "pipe.get_params()"
   ]
  },
  {
   "cell_type": "code",
   "execution_count": 23,
   "id": "afd334cb-78c6-47b1-9787-198aaa97d5ec",
   "metadata": {},
   "outputs": [
    {
     "data": {
      "text/plain": [
       "Pipeline(steps=[('scale', StandardScaler()),\n",
       "                ('model',\n",
       "                 RandomForestClassifier(max_depth=6, n_estimators=50,\n",
       "                                        random_state=60))])"
      ]
     },
     "execution_count": 23,
     "metadata": {},
     "output_type": "execute_result"
    }
   ],
   "source": [
    "## creating the grid search\n",
    "params = {\n",
    "    'model__ccp_alpha':[0.0, 0.1, 0.2],\n",
    "    'model__max_depth':[2, 4, 6],\n",
    "    'model__min_samples_split':[2, 4, 6],\n",
    "    'model__n_estimators':[50, 100, 150],\n",
    "}\n",
    "gc = GridSearchCV(pipe,\n",
    "                 param_grid=params,\n",
    "                 cv = 3)\n",
    "gc.fit(X_train, y_train)\n",
    "best_model = gc.best_estimator_\n",
    "best_model"
   ]
  },
  {
   "cell_type": "code",
   "execution_count": 24,
   "id": "c1ac2c19-1728-415a-a05a-29e73f6a4ab8",
   "metadata": {},
   "outputs": [
    {
     "data": {
      "text/plain": [
       "Pipeline(steps=[('scale', StandardScaler()),\n",
       "                ('model',\n",
       "                 RandomForestClassifier(max_depth=10, n_estimators=50,\n",
       "                                        random_state=60))])"
      ]
     },
     "execution_count": 24,
     "metadata": {},
     "output_type": "execute_result"
    }
   ],
   "source": [
    "## second try\n",
    "params2 = {\n",
    "    'model__max_depth':[6, 8, 10],\n",
    "    'model__min_samples_split':[2],\n",
    "    'model__n_estimators':[30, 50, 80],\n",
    "}\n",
    "gc2 = GridSearchCV(pipe,\n",
    "                 param_grid=params2,\n",
    "                 cv = 3)\n",
    "gc2.fit(X_train, y_train)\n",
    "best_model = gc2.best_estimator_\n",
    "best_model"
   ]
  },
  {
   "cell_type": "code",
   "execution_count": 25,
   "id": "3a4b90a2-22dc-46b4-857f-3416c5788c88",
   "metadata": {},
   "outputs": [
    {
     "data": {
      "text/plain": [
       "Pipeline(steps=[('scale', StandardScaler()),\n",
       "                ('model',\n",
       "                 RandomForestClassifier(max_depth=20, random_state=60))])"
      ]
     },
     "execution_count": 25,
     "metadata": {},
     "output_type": "execute_result"
    }
   ],
   "source": [
    "## 3rd try\n",
    "params3 = {\n",
    "    'model__max_depth':[10, 15, 20],\n",
    "}\n",
    "gc3 = GridSearchCV(pipe,\n",
    "                 param_grid=params3,\n",
    "                 cv = 3)\n",
    "gc3.fit(X_train, y_train)\n",
    "best_model = gc3.best_estimator_\n",
    "best_model"
   ]
  },
  {
   "cell_type": "code",
   "execution_count": 26,
   "id": "af1d0152-6c5e-4574-8684-d580426975a0",
   "metadata": {},
   "outputs": [
    {
     "data": {
      "text/plain": [
       "0.8851209253417456"
      ]
     },
     "execution_count": 26,
     "metadata": {},
     "output_type": "execute_result"
    }
   ],
   "source": [
    "best_model.score(X_test, y_test)"
   ]
  },
  {
   "cell_type": "code",
   "execution_count": null,
   "id": "a1c5be00-63f9-458b-a8a0-49a4ca8a62f8",
   "metadata": {},
   "outputs": [],
   "source": []
  }
 ],
 "metadata": {
  "kernelspec": {
   "display_name": "Python 3 (ipykernel)",
   "language": "python",
   "name": "python3"
  },
  "language_info": {
   "codemirror_mode": {
    "name": "ipython",
    "version": 3
   },
   "file_extension": ".py",
   "mimetype": "text/x-python",
   "name": "python",
   "nbconvert_exporter": "python",
   "pygments_lexer": "ipython3",
   "version": "3.9.13"
  }
 },
 "nbformat": 4,
 "nbformat_minor": 5
}
