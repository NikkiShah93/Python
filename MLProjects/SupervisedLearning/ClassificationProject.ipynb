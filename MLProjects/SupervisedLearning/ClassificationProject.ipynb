{
 "cells": [
  {
   "cell_type": "markdown",
   "id": "2259a0b6-5fb9-4e3b-bc7c-9a971ef8fdc3",
   "metadata": {},
   "source": [
    "## Classification Model \n",
    "\n",
    "We're using the [MAGIC Gamma Telescope data from UCI repo](https://archive.ics.uci.edu/dataset/159/magic+gamma+telescope) for this project. \n",
    "\n",
    "The steps taken in this project is as follows:\n",
    "- [Loading and exploring the data](#loadex)\n",
    "- [Random Forest Model](#randomf)\n",
    "- [KNN Model](#knnmodel)\n",
    "- [XGBoost Model](#xgbmodel)\n",
    "\n",
    "\n",
    "The worset performace among the tested models was from KNN, followed by Random Forest, and XGBoost showed the highest accuracy among the tested model.\n",
    "\n",
    "- [XGBoost Score](#xgbscore): 0.8885\n",
    "- [Random Forest Score](#rfscore): 0.8851\n",
    "- [KNN Score](#knnscore): 0.8483"
   ]
  },
  {
   "cell_type": "code",
   "execution_count": 1,
   "id": "39b45637-589a-4114-930b-23de4834ac11",
   "metadata": {},
   "outputs": [],
   "source": [
    "## first the imports\n",
    "import numpy as np\n",
    "import pandas as pd\n",
    "import matplotlib.pyplot as plt\n",
    "import warnings\n",
    "warnings.filterwarnings('ignore')\n",
    "\n",
    "## the sklearn modules\n",
    "from sklearn.model_selection import GridSearchCV, train_test_split\n",
    "from sklearn.preprocessing import StandardScaler \n",
    "from sklearn.pipeline import Pipeline\n",
    "from sklearn.neighbors import KNeighborsClassifier\n",
    "from sklearn.ensemble import RandomForestClassifier\n",
    "\n",
    "## XGBoost module to compare\n",
    "from xgboost import XGBClassifier"
   ]
  },
  {
   "cell_type": "markdown",
   "id": "ed084910-969e-434b-87ed-d69769c9497a",
   "metadata": {},
   "source": [
    "<a id='loadex'></a>\n",
    "### Loading and exploring the data"
   ]
  },
  {
   "cell_type": "code",
   "execution_count": 2,
   "id": "440df273-4a6c-49a3-8bbe-b6d60341a7c5",
   "metadata": {},
   "outputs": [
    {
     "data": {
      "text/html": [
       "<div>\n",
       "<style scoped>\n",
       "    .dataframe tbody tr th:only-of-type {\n",
       "        vertical-align: middle;\n",
       "    }\n",
       "\n",
       "    .dataframe tbody tr th {\n",
       "        vertical-align: top;\n",
       "    }\n",
       "\n",
       "    .dataframe thead th {\n",
       "        text-align: right;\n",
       "    }\n",
       "</style>\n",
       "<table border=\"1\" class=\"dataframe\">\n",
       "  <thead>\n",
       "    <tr style=\"text-align: right;\">\n",
       "      <th></th>\n",
       "      <th>fLength</th>\n",
       "      <th>fWidth</th>\n",
       "      <th>fSize</th>\n",
       "      <th>fConc</th>\n",
       "      <th>fConc1</th>\n",
       "      <th>fAsym</th>\n",
       "      <th>fM3Long</th>\n",
       "      <th>fM3Trans</th>\n",
       "      <th>fAlpha</th>\n",
       "      <th>fDist</th>\n",
       "      <th>class</th>\n",
       "    </tr>\n",
       "  </thead>\n",
       "  <tbody>\n",
       "    <tr>\n",
       "      <th>0</th>\n",
       "      <td>28.7967</td>\n",
       "      <td>16.0021</td>\n",
       "      <td>2.6449</td>\n",
       "      <td>0.3918</td>\n",
       "      <td>0.1982</td>\n",
       "      <td>27.7004</td>\n",
       "      <td>22.0110</td>\n",
       "      <td>-8.2027</td>\n",
       "      <td>40.0920</td>\n",
       "      <td>81.8828</td>\n",
       "      <td>g</td>\n",
       "    </tr>\n",
       "    <tr>\n",
       "      <th>1</th>\n",
       "      <td>31.6036</td>\n",
       "      <td>11.7235</td>\n",
       "      <td>2.5185</td>\n",
       "      <td>0.5303</td>\n",
       "      <td>0.3773</td>\n",
       "      <td>26.2722</td>\n",
       "      <td>23.8238</td>\n",
       "      <td>-9.9574</td>\n",
       "      <td>6.3609</td>\n",
       "      <td>205.2610</td>\n",
       "      <td>g</td>\n",
       "    </tr>\n",
       "    <tr>\n",
       "      <th>2</th>\n",
       "      <td>162.0520</td>\n",
       "      <td>136.0310</td>\n",
       "      <td>4.0612</td>\n",
       "      <td>0.0374</td>\n",
       "      <td>0.0187</td>\n",
       "      <td>116.7410</td>\n",
       "      <td>-64.8580</td>\n",
       "      <td>-45.2160</td>\n",
       "      <td>76.9600</td>\n",
       "      <td>256.7880</td>\n",
       "      <td>g</td>\n",
       "    </tr>\n",
       "    <tr>\n",
       "      <th>3</th>\n",
       "      <td>23.8172</td>\n",
       "      <td>9.5728</td>\n",
       "      <td>2.3385</td>\n",
       "      <td>0.6147</td>\n",
       "      <td>0.3922</td>\n",
       "      <td>27.2107</td>\n",
       "      <td>-6.4633</td>\n",
       "      <td>-7.1513</td>\n",
       "      <td>10.4490</td>\n",
       "      <td>116.7370</td>\n",
       "      <td>g</td>\n",
       "    </tr>\n",
       "    <tr>\n",
       "      <th>4</th>\n",
       "      <td>75.1362</td>\n",
       "      <td>30.9205</td>\n",
       "      <td>3.1611</td>\n",
       "      <td>0.3168</td>\n",
       "      <td>0.1832</td>\n",
       "      <td>-5.5277</td>\n",
       "      <td>28.5525</td>\n",
       "      <td>21.8393</td>\n",
       "      <td>4.6480</td>\n",
       "      <td>356.4620</td>\n",
       "      <td>g</td>\n",
       "    </tr>\n",
       "  </tbody>\n",
       "</table>\n",
       "</div>"
      ],
      "text/plain": [
       "    fLength    fWidth   fSize   fConc  fConc1     fAsym  fM3Long  fM3Trans  \\\n",
       "0   28.7967   16.0021  2.6449  0.3918  0.1982   27.7004  22.0110   -8.2027   \n",
       "1   31.6036   11.7235  2.5185  0.5303  0.3773   26.2722  23.8238   -9.9574   \n",
       "2  162.0520  136.0310  4.0612  0.0374  0.0187  116.7410 -64.8580  -45.2160   \n",
       "3   23.8172    9.5728  2.3385  0.6147  0.3922   27.2107  -6.4633   -7.1513   \n",
       "4   75.1362   30.9205  3.1611  0.3168  0.1832   -5.5277  28.5525   21.8393   \n",
       "\n",
       "    fAlpha     fDist class  \n",
       "0  40.0920   81.8828     g  \n",
       "1   6.3609  205.2610     g  \n",
       "2  76.9600  256.7880     g  \n",
       "3  10.4490  116.7370     g  \n",
       "4   4.6480  356.4620     g  "
      ]
     },
     "execution_count": 2,
     "metadata": {},
     "output_type": "execute_result"
    }
   ],
   "source": [
    "## reading the data from its url\n",
    "## and checking the overall format\n",
    "magic_gamma = pd.read_csv('https://archive.ics.uci.edu/static/public/159/data.csv')\n",
    "magic_gamma.head()"
   ]
  },
  {
   "cell_type": "code",
   "execution_count": 3,
   "id": "d5f915f8-cf0a-44af-bbba-2db1fc97315a",
   "metadata": {},
   "outputs": [
    {
     "name": "stdout",
     "output_type": "stream",
     "text": [
      "<class 'pandas.core.frame.DataFrame'>\n",
      "RangeIndex: 19020 entries, 0 to 19019\n",
      "Data columns (total 11 columns):\n",
      " #   Column    Non-Null Count  Dtype  \n",
      "---  ------    --------------  -----  \n",
      " 0   fLength   19020 non-null  float64\n",
      " 1   fWidth    19020 non-null  float64\n",
      " 2   fSize     19020 non-null  float64\n",
      " 3   fConc     19020 non-null  float64\n",
      " 4   fConc1    19020 non-null  float64\n",
      " 5   fAsym     19020 non-null  float64\n",
      " 6   fM3Long   19020 non-null  float64\n",
      " 7   fM3Trans  19020 non-null  float64\n",
      " 8   fAlpha    19020 non-null  float64\n",
      " 9   fDist     19020 non-null  float64\n",
      " 10  class     19020 non-null  object \n",
      "dtypes: float64(10), object(1)\n",
      "memory usage: 1.6+ MB\n"
     ]
    }
   ],
   "source": [
    "magic_gamma.info()"
   ]
  },
  {
   "cell_type": "code",
   "execution_count": 4,
   "id": "c5494796-00ba-4848-97a4-6444603b1be0",
   "metadata": {},
   "outputs": [
    {
     "name": "stdout",
     "output_type": "stream",
     "text": [
      "<class 'pandas.core.frame.DataFrame'>\n",
      "RangeIndex: 19020 entries, 0 to 19019\n",
      "Data columns (total 12 columns):\n",
      " #   Column    Non-Null Count  Dtype  \n",
      "---  ------    --------------  -----  \n",
      " 0   flength   19020 non-null  float64\n",
      " 1   fwidth    19020 non-null  float64\n",
      " 2   fsize     19020 non-null  float64\n",
      " 3   fconc     19020 non-null  float64\n",
      " 4   fconc1    19020 non-null  float64\n",
      " 5   fasym     19020 non-null  float64\n",
      " 6   fm3long   19020 non-null  float64\n",
      " 7   fm3trans  19020 non-null  float64\n",
      " 8   falpha    19020 non-null  float64\n",
      " 9   fdist     19020 non-null  float64\n",
      " 10  class_g   19020 non-null  uint8  \n",
      " 11  class_h   19020 non-null  uint8  \n",
      "dtypes: float64(10), uint8(2)\n",
      "memory usage: 1.5 MB\n"
     ]
    }
   ],
   "source": [
    "## changing the types for improving the memory usage\n",
    "def data_cleaner(df):\n",
    "    datatype_dict = {}\n",
    "    df.columns = [x.replace(r'\\s+', '_').lower() for x in df.columns]\n",
    "    for col in df.columns:\n",
    "        ## dropping the columns that are mostly null values\n",
    "        if df[col].isnull().sum()/df.shape[0] >= 0.5:\n",
    "            df.drop(col, axis=1, inplace=True)\n",
    "        elif df[col].dtype == 'object' and df[col].nunique() < 10:\n",
    "            df[col] = df[col].str.replace(r'\\s+','_', regex = True).str.lower()\n",
    "            df = pd.get_dummies(data=df, columns = [col])\n",
    "        elif df[col].dtype == 'object':\n",
    "            df.drop(col, axis=1, inplace=True)\n",
    "        elif df[col].dtype in ['float64', 'float32'] and df[col].min() == df.astype({col:'float16'})[col].min:\n",
    "            datatype_dict[col] = 'float16'\n",
    "        elif df[col].dtype == 'float64' and df[col].min() == df.astype({col:'float32'})[col].min:\n",
    "            datatype_dict[col] = 'float32'\n",
    "        elif df[col].dtype in ['int64', 'int32', 'int16'] and df[col].min() == df.astype({col:'int8'})[col].min:\n",
    "            datatype_dict[col] = 'int8'\n",
    "        elif df[col].dtype in ['int64', 'int32'] and df[col].min() == df.astype({col:'int16'})[col].min:\n",
    "            datatype_dict[col] = 'int16'\n",
    "        elif df[col].dtype in ['int64'] and df[col].min() == df.astype({col:'int32'})[col].min:\n",
    "            datatype_dict[col] = 'int32'\n",
    "    return df.astype(datatype_dict)\n",
    "cleaned_magic = data_cleaner(magic_gamma.copy())\n",
    "cleaned_magic.info()"
   ]
  },
  {
   "cell_type": "code",
   "execution_count": 5,
   "id": "119db95e-8a70-486a-832e-6ccb4f0f0a97",
   "metadata": {},
   "outputs": [
    {
     "data": {
      "image/png": "[encoded data removed]",
      "text/plain": [
       "<Figure size 800x3200 with 10 Axes>"
      ]
     },
     "metadata": {},
     "output_type": "display_data"
    }
   ],
   "source": [
    "## some more explorations\n",
    "plt.style.use('ggplot')\n",
    "labels = ['class_h', 'class_g']\n",
    "color_dict = {'class_h':'red', 'class_g':'blue'}\n",
    "fig, ax = plt.subplots(nrows = int(len(cleaned_magic.drop(labels, axis=1).columns)),\n",
    "                      figsize=(8,32))\n",
    "c = 0\n",
    "for col in cleaned_magic.columns:\n",
    "    if col in labels:\n",
    "        continue\n",
    "    for l in labels:\n",
    "        ax[c].hist(cleaned_magic[cleaned_magic[l] == 1][col], density=True,\n",
    "                 label=l, color=color_dict[l], alpha=.7)\n",
    "        ax[c].set_title(col)\n",
    "    ax[c].legend()\n",
    "    c +=1"
   ]
  },
  {
   "cell_type": "code",
   "execution_count": 6,
   "id": "ec349f23-d782-4838-8dbd-ed840aa7289e",
   "metadata": {},
   "outputs": [
    {
     "name": "stdout",
     "output_type": "stream",
     "text": [
      " H : 35.0 %\n",
      " G : 65.0 %\n"
     ]
    }
   ],
   "source": [
    "## getting the proportion of each class\n",
    "print(f\" H : {round(sum(cleaned_magic['class_h'])/cleaned_magic.shape[0],2)*100} %\")\n",
    "print(f\" G : {round(sum(cleaned_magic['class_g'])/cleaned_magic.shape[0],2)*100} %\")"
   ]
  },
  {
   "cell_type": "markdown",
   "id": "0de2791c-c310-4e79-8b09-d7794c629054",
   "metadata": {},
   "source": [
    "We have fewer H cases compared to G."
   ]
  },
  {
   "cell_type": "code",
   "execution_count": 7,
   "id": "a5e5a2d4-eeb1-43ea-84a9-b65bbb012e2f",
   "metadata": {},
   "outputs": [],
   "source": [
    "## splitting the data\n",
    "random_seed = 60\n",
    "X, y = cleaned_magic.drop(['class_g', 'class_h'], axis=1), cleaned_magic[['class_g', 'class_h']]\n",
    "X_train, X_test, y_train, y_test = train_test_split(X, y, stratify=y, test_size=.2, random_state=random_seed)"
   ]
  },
  {
   "cell_type": "markdown",
   "id": "4e994e8f-28e9-42c1-8f16-6a645fec3b36",
   "metadata": {},
   "source": [
    "<a id='randomf'></a>\n",
    "### Random Forest Model"
   ]
  },
  {
   "cell_type": "code",
   "execution_count": 8,
   "id": "b14f8142-d176-4db7-a865-eafdaebc993c",
   "metadata": {},
   "outputs": [
    {
     "data": {
      "text/plain": [
       "{'memory': None,\n",
       " 'steps': [('scale', StandardScaler()),\n",
       "  ('model', RandomForestClassifier(random_state=60))],\n",
       " 'verbose': False,\n",
       " 'scale': StandardScaler(),\n",
       " 'model': RandomForestClassifier(random_state=60),\n",
       " 'scale__copy': True,\n",
       " 'scale__with_mean': True,\n",
       " 'scale__with_std': True,\n",
       " 'model__bootstrap': True,\n",
       " 'model__ccp_alpha': 0.0,\n",
       " 'model__class_weight': None,\n",
       " 'model__criterion': 'gini',\n",
       " 'model__max_depth': None,\n",
       " 'model__max_features': 'auto',\n",
       " 'model__max_leaf_nodes': None,\n",
       " 'model__max_samples': None,\n",
       " 'model__min_impurity_decrease': 0.0,\n",
       " 'model__min_samples_leaf': 1,\n",
       " 'model__min_samples_split': 2,\n",
       " 'model__min_weight_fraction_leaf': 0.0,\n",
       " 'model__n_estimators': 100,\n",
       " 'model__n_jobs': None,\n",
       " 'model__oob_score': False,\n",
       " 'model__random_state': 60,\n",
       " 'model__verbose': 0,\n",
       " 'model__warm_start': False}"
      ]
     },
     "execution_count": 8,
     "metadata": {},
     "output_type": "execute_result"
    }
   ],
   "source": [
    "## starting with the pipeline\n",
    "pipe = Pipeline([('scale', StandardScaler()),\n",
    "                ('model', RandomForestClassifier(random_state=random_seed))])\n",
    "pipe.get_params()"
   ]
  },
  {
   "cell_type": "code",
   "execution_count": 9,
   "id": "afd334cb-78c6-47b1-9787-198aaa97d5ec",
   "metadata": {},
   "outputs": [
    {
     "data": {
      "text/plain": [
       "Pipeline(steps=[('scale', StandardScaler()),\n",
       "                ('model',\n",
       "                 RandomForestClassifier(max_depth=6, n_estimators=50,\n",
       "                                        random_state=60))])"
      ]
     },
     "execution_count": 9,
     "metadata": {},
     "output_type": "execute_result"
    }
   ],
   "source": [
    "## creating the grid search\n",
    "params = {\n",
    "    'model__ccp_alpha':[0.0, 0.1, 0.2],\n",
    "    'model__max_depth':[2, 4, 6],\n",
    "    'model__min_samples_split':[2, 4, 6],\n",
    "    'model__n_estimators':[50, 100, 150],\n",
    "}\n",
    "gc = GridSearchCV(pipe,\n",
    "                 param_grid=params,\n",
    "                 cv = 3)\n",
    "gc.fit(X_train, y_train)\n",
    "best_model = gc.best_estimator_\n",
    "best_model"
   ]
  },
  {
   "cell_type": "code",
   "execution_count": 10,
   "id": "c1ac2c19-1728-415a-a05a-29e73f6a4ab8",
   "metadata": {},
   "outputs": [
    {
     "data": {
      "text/plain": [
       "Pipeline(steps=[('scale', StandardScaler()),\n",
       "                ('model',\n",
       "                 RandomForestClassifier(max_depth=10, n_estimators=50,\n",
       "                                        random_state=60))])"
      ]
     },
     "execution_count": 10,
     "metadata": {},
     "output_type": "execute_result"
    }
   ],
   "source": [
    "## second try\n",
    "params2 = {\n",
    "    'model__max_depth':[6, 8, 10],\n",
    "    'model__min_samples_split':[2],\n",
    "    'model__n_estimators':[30, 50, 80],\n",
    "}\n",
    "gc2 = GridSearchCV(pipe,\n",
    "                 param_grid=params2,\n",
    "                 cv = 3)\n",
    "gc2.fit(X_train, y_train)\n",
    "best_model = gc2.best_estimator_\n",
    "best_model"
   ]
  },
  {
   "cell_type": "code",
   "execution_count": 11,
   "id": "3a4b90a2-22dc-46b4-857f-3416c5788c88",
   "metadata": {},
   "outputs": [
    {
     "data": {
      "text/plain": [
       "Pipeline(steps=[('scale', StandardScaler()),\n",
       "                ('model',\n",
       "                 RandomForestClassifier(max_depth=20, random_state=60))])"
      ]
     },
     "execution_count": 11,
     "metadata": {},
     "output_type": "execute_result"
    }
   ],
   "source": [
    "## 3rd try\n",
    "params3 = {\n",
    "    'model__max_depth':[10, 15, 20],\n",
    "}\n",
    "gc3 = GridSearchCV(pipe,\n",
    "                 param_grid=params3,\n",
    "                 cv = 3)\n",
    "gc3.fit(X_train, y_train)\n",
    "best_model = gc3.best_estimator_\n",
    "best_model"
   ]
  },
  {
   "cell_type": "markdown",
   "id": "e53b9fc7-9465-449d-bdcc-8f20efbc7b7f",
   "metadata": {},
   "source": [
    "<a id='rfscore'></a>"
   ]
  },
  {
   "cell_type": "code",
   "execution_count": 12,
   "id": "af1d0152-6c5e-4574-8684-d580426975a0",
   "metadata": {},
   "outputs": [
    {
     "data": {
      "text/plain": [
       "0.8851209253417456"
      ]
     },
     "execution_count": 12,
     "metadata": {},
     "output_type": "execute_result"
    }
   ],
   "source": [
    "best_model.score(X_test, y_test)"
   ]
  },
  {
   "cell_type": "markdown",
   "id": "0795dbf4-04ca-4b01-ab7a-3c20d28364e6",
   "metadata": {},
   "source": [
    "<a id='knnmodel'></a>\n",
    "### KNN Model"
   ]
  },
  {
   "cell_type": "code",
   "execution_count": 13,
   "id": "2927f224-86ac-45c4-8bfe-aed14627bac7",
   "metadata": {},
   "outputs": [
    {
     "data": {
      "text/plain": [
       "{'memory': None,\n",
       " 'steps': [('scale', StandardScaler()), ('model', KNeighborsClassifier())],\n",
       " 'verbose': False,\n",
       " 'scale': StandardScaler(),\n",
       " 'model': KNeighborsClassifier(),\n",
       " 'scale__copy': True,\n",
       " 'scale__with_mean': True,\n",
       " 'scale__with_std': True,\n",
       " 'model__algorithm': 'auto',\n",
       " 'model__leaf_size': 30,\n",
       " 'model__metric': 'minkowski',\n",
       " 'model__metric_params': None,\n",
       " 'model__n_jobs': None,\n",
       " 'model__n_neighbors': 5,\n",
       " 'model__p': 2,\n",
       " 'model__weights': 'uniform'}"
      ]
     },
     "execution_count": 13,
     "metadata": {},
     "output_type": "execute_result"
    }
   ],
   "source": [
    "## starting with the pipeline again\n",
    "pipe = Pipeline([('scale', StandardScaler()),\n",
    "                ('model', KNeighborsClassifier())])\n",
    "pipe.get_params()"
   ]
  },
  {
   "cell_type": "code",
   "execution_count": 14,
   "id": "48135ade-cf49-48be-87b8-f07fdb9d680f",
   "metadata": {},
   "outputs": [
    {
     "data": {
      "text/plain": [
       "Pipeline(steps=[('scale', StandardScaler()),\n",
       "                ('model',\n",
       "                 KNeighborsClassifier(leaf_size=15, n_neighbors=6,\n",
       "                                      weights='distance'))])"
      ]
     },
     "execution_count": 14,
     "metadata": {},
     "output_type": "execute_result"
    }
   ],
   "source": [
    "## creating the grid search for KNN\n",
    "params = {\n",
    "    'model__algorithm':['auto', 'kd_tree', 'brute'], \n",
    "    'model__n_neighbors':[2, 4, 6],\n",
    "    'model__weights':['uniform', 'distance'],\n",
    "    'model__leaf_size':[15, 30, 45],\n",
    "}\n",
    "gc = GridSearchCV(pipe,\n",
    "                 param_grid=params,\n",
    "                 cv = 3)\n",
    "gc.fit(X_train, y_train)\n",
    "best_model = gc.best_estimator_\n",
    "best_model"
   ]
  },
  {
   "cell_type": "code",
   "execution_count": 15,
   "id": "da6c0274-cdbc-4a36-bb7d-36b469e7a216",
   "metadata": {},
   "outputs": [
    {
     "data": {
      "text/plain": [
       "Pipeline(steps=[('scale', StandardScaler()),\n",
       "                ('model',\n",
       "                 KNeighborsClassifier(leaf_size=10, n_neighbors=8,\n",
       "                                      weights='distance'))])"
      ]
     },
     "execution_count": 15,
     "metadata": {},
     "output_type": "execute_result"
    }
   ],
   "source": [
    "## 2nd try\n",
    "params2 = {\n",
    "    'model__algorithm':['auto'], \n",
    "    'model__n_neighbors':[6, 8, 10],\n",
    "    'model__weights':['uniform', 'distance'],\n",
    "    'model__leaf_size':[10, 15, 20],\n",
    "}\n",
    "gc2 = GridSearchCV(pipe,\n",
    "                 param_grid=params2,\n",
    "                 cv = 3)\n",
    "gc2.fit(X_train, y_train)\n",
    "best_model = gc2.best_estimator_\n",
    "best_model"
   ]
  },
  {
   "cell_type": "code",
   "execution_count": 16,
   "id": "ea02f747-9c25-47f9-aca0-17e0f251979c",
   "metadata": {},
   "outputs": [
    {
     "data": {
      "text/plain": [
       "Pipeline(steps=[('scale', StandardScaler()),\n",
       "                ('model',\n",
       "                 KNeighborsClassifier(leaf_size=8, n_neighbors=8,\n",
       "                                      weights='distance'))])"
      ]
     },
     "execution_count": 16,
     "metadata": {},
     "output_type": "execute_result"
    }
   ],
   "source": [
    "## 3rd try\n",
    "params3 = {\n",
    "    'model__algorithm':['auto'], \n",
    "    'model__n_neighbors':[8],\n",
    "    'model__weights':['distance'],\n",
    "    'model__leaf_size':[8, 10, 12],\n",
    "}\n",
    "gc3 = GridSearchCV(pipe,\n",
    "                 param_grid=params3,\n",
    "                 cv = 3)\n",
    "gc3.fit(X_train, y_train)\n",
    "best_model = gc3.best_estimator_\n",
    "best_model"
   ]
  },
  {
   "cell_type": "code",
   "execution_count": 17,
   "id": "f83efe4d-b1da-456a-bdfa-1d5e3cc513ea",
   "metadata": {},
   "outputs": [
    {
     "data": {
      "text/plain": [
       "Pipeline(steps=[('scale', StandardScaler()),\n",
       "                ('model',\n",
       "                 KNeighborsClassifier(leaf_size=4, n_neighbors=8,\n",
       "                                      weights='distance'))])"
      ]
     },
     "execution_count": 17,
     "metadata": {},
     "output_type": "execute_result"
    }
   ],
   "source": [
    "## 4th try\n",
    "params4 = {\n",
    "    'model__algorithm':['auto'], \n",
    "    'model__n_neighbors':[8],\n",
    "    'model__weights':['distance'],\n",
    "    'model__leaf_size':[4, 6, 8],\n",
    "}\n",
    "gc4 = GridSearchCV(pipe,\n",
    "                 param_grid=params4,\n",
    "                 cv = 3)\n",
    "gc4.fit(X_train, y_train)\n",
    "best_model = gc4.best_estimator_\n",
    "best_model"
   ]
  },
  {
   "cell_type": "code",
   "execution_count": 18,
   "id": "254ba018-8c42-4085-af83-16b1f0fe50e3",
   "metadata": {},
   "outputs": [
    {
     "data": {
      "text/plain": [
       "Pipeline(steps=[('scale', StandardScaler()),\n",
       "                ('model',\n",
       "                 KNeighborsClassifier(leaf_size=2, n_neighbors=8,\n",
       "                                      weights='distance'))])"
      ]
     },
     "execution_count": 18,
     "metadata": {},
     "output_type": "execute_result"
    }
   ],
   "source": [
    "## 5th try\n",
    "params5 = {\n",
    "    'model__algorithm':['auto'], \n",
    "    'model__n_neighbors':[8],\n",
    "    'model__weights':['distance'],\n",
    "    'model__leaf_size':[2, 4, 5],\n",
    "}\n",
    "gc5 = GridSearchCV(pipe,\n",
    "                 param_grid=params5,\n",
    "                 cv = 3)\n",
    "gc5.fit(X_train, y_train)\n",
    "best_model = gc5.best_estimator_\n",
    "best_model"
   ]
  },
  {
   "cell_type": "markdown",
   "id": "e7bacf80-c2b5-487a-82ae-24b0760e5050",
   "metadata": {},
   "source": [
    "<a id='knnscore'></a>"
   ]
  },
  {
   "cell_type": "code",
   "execution_count": 19,
   "id": "a0507392-1676-40e1-8522-1d87ec81ec9b",
   "metadata": {},
   "outputs": [
    {
     "data": {
      "text/plain": [
       "0.8483175604626709"
      ]
     },
     "execution_count": 19,
     "metadata": {},
     "output_type": "execute_result"
    }
   ],
   "source": [
    "best_model.score(X_test, y_test)"
   ]
  },
  {
   "cell_type": "markdown",
   "id": "8dedca33-902c-4aff-93cf-f4191fd1ca1b",
   "metadata": {},
   "source": [
    "<a id='xgbmodel'></a>\n",
    "### XGBoost Model"
   ]
  },
  {
   "cell_type": "code",
   "execution_count": 20,
   "id": "acfd8417-9c64-4506-a7a0-8fe04fc67eba",
   "metadata": {},
   "outputs": [
    {
     "data": {
      "text/plain": [
       "{'memory': None,\n",
       " 'steps': [('scale', StandardScaler()),\n",
       "  ('model',\n",
       "   XGBClassifier(base_score=None, booster=None, callbacks=None,\n",
       "                 colsample_bylevel=None, colsample_bynode=None,\n",
       "                 colsample_bytree=None, device=None, early_stopping_rounds=None,\n",
       "                 enable_categorical=False, eval_metric=None, feature_types=None,\n",
       "                 gamma=None, grow_policy=None, importance_type=None,\n",
       "                 interaction_constraints=None, learning_rate=None, max_bin=None,\n",
       "                 max_cat_threshold=None, max_cat_to_onehot=None,\n",
       "                 max_delta_step=None, max_depth=None, max_leaves=None,\n",
       "                 min_child_weight=None, missing=nan, monotone_constraints=None,\n",
       "                 multi_strategy=None, n_estimators=None, n_jobs=None,\n",
       "                 num_parallel_tree=None, random_state=60, ...))],\n",
       " 'verbose': False,\n",
       " 'scale': StandardScaler(),\n",
       " 'model': XGBClassifier(base_score=None, booster=None, callbacks=None,\n",
       "               colsample_bylevel=None, colsample_bynode=None,\n",
       "               colsample_bytree=None, device=None, early_stopping_rounds=None,\n",
       "               enable_categorical=False, eval_metric=None, feature_types=None,\n",
       "               gamma=None, grow_policy=None, importance_type=None,\n",
       "               interaction_constraints=None, learning_rate=None, max_bin=None,\n",
       "               max_cat_threshold=None, max_cat_to_onehot=None,\n",
       "               max_delta_step=None, max_depth=None, max_leaves=None,\n",
       "               min_child_weight=None, missing=nan, monotone_constraints=None,\n",
       "               multi_strategy=None, n_estimators=None, n_jobs=None,\n",
       "               num_parallel_tree=None, random_state=60, ...),\n",
       " 'scale__copy': True,\n",
       " 'scale__with_mean': True,\n",
       " 'scale__with_std': True,\n",
       " 'model__objective': 'binary:logistic',\n",
       " 'model__base_score': None,\n",
       " 'model__booster': None,\n",
       " 'model__callbacks': None,\n",
       " 'model__colsample_bylevel': None,\n",
       " 'model__colsample_bynode': None,\n",
       " 'model__colsample_bytree': None,\n",
       " 'model__device': None,\n",
       " 'model__early_stopping_rounds': None,\n",
       " 'model__enable_categorical': False,\n",
       " 'model__eval_metric': None,\n",
       " 'model__feature_types': None,\n",
       " 'model__gamma': None,\n",
       " 'model__grow_policy': None,\n",
       " 'model__importance_type': None,\n",
       " 'model__interaction_constraints': None,\n",
       " 'model__learning_rate': None,\n",
       " 'model__max_bin': None,\n",
       " 'model__max_cat_threshold': None,\n",
       " 'model__max_cat_to_onehot': None,\n",
       " 'model__max_delta_step': None,\n",
       " 'model__max_depth': None,\n",
       " 'model__max_leaves': None,\n",
       " 'model__min_child_weight': None,\n",
       " 'model__missing': nan,\n",
       " 'model__monotone_constraints': None,\n",
       " 'model__multi_strategy': None,\n",
       " 'model__n_estimators': None,\n",
       " 'model__n_jobs': None,\n",
       " 'model__num_parallel_tree': None,\n",
       " 'model__random_state': 60,\n",
       " 'model__reg_alpha': None,\n",
       " 'model__reg_lambda': None,\n",
       " 'model__sampling_method': None,\n",
       " 'model__scale_pos_weight': None,\n",
       " 'model__subsample': None,\n",
       " 'model__tree_method': None,\n",
       " 'model__validate_parameters': None,\n",
       " 'model__verbosity': None}"
      ]
     },
     "execution_count": 20,
     "metadata": {},
     "output_type": "execute_result"
    }
   ],
   "source": [
    "## starting with the pipeline again\n",
    "pipe = Pipeline([('scale', StandardScaler()),\n",
    "                ('model', XGBClassifier(random_state=random_seed))])\n",
    "pipe.get_params()"
   ]
  },
  {
   "cell_type": "code",
   "execution_count": 21,
   "id": "2c8f3431-5f55-4e16-85aa-d85e11032d81",
   "metadata": {},
   "outputs": [
    {
     "data": {
      "text/plain": [
       "Pipeline(steps=[('scale', StandardScaler()),\n",
       "                ('model',\n",
       "                 XGBClassifier(base_score=None, booster=None, callbacks=None,\n",
       "                               colsample_bylevel=None, colsample_bynode=None,\n",
       "                               colsample_bytree=None, device=None,\n",
       "                               early_stopping_rounds=None,\n",
       "                               enable_categorical=False, eval_metric=None,\n",
       "                               feature_types=None, gamma=None, grow_policy=None,\n",
       "                               importance_type=None,\n",
       "                               interaction_constraints=None, learning_rate=0.2,\n",
       "                               max_bin=None, max_cat_threshold=None,\n",
       "                               max_cat_to_onehot=None, max_delta_step=None,\n",
       "                               max_depth=8, max_leaves=None,\n",
       "                               min_child_weight=None, missing=nan,\n",
       "                               monotone_constraints=None, multi_strategy=None,\n",
       "                               n_estimators=150, n_jobs=None,\n",
       "                               num_parallel_tree=2, random_state=60, ...))])"
      ]
     },
     "execution_count": 21,
     "metadata": {},
     "output_type": "execute_result"
    }
   ],
   "source": [
    "## creating the grid search for xgb\n",
    "params = {\n",
    "    'model__learning_rate':[0.001, 0.1, 0.2],\n",
    "    'model__num_parallel_tree':[2, 4, 6],\n",
    "    'model__max_depth':[4, 6, 8],\n",
    "    'model__n_estimators':[50, 100, 150],\n",
    "}\n",
    "gc = GridSearchCV(pipe,\n",
    "                 param_grid=params,\n",
    "                 cv = 3)\n",
    "gc.fit(X_train, y_train)\n",
    "best_model = gc.best_estimator_\n",
    "best_model"
   ]
  },
  {
   "cell_type": "code",
   "execution_count": 22,
   "id": "a5cfc835-7baa-45cc-9ce5-b314565464e0",
   "metadata": {},
   "outputs": [
    {
     "data": {
      "text/plain": [
       "Pipeline(steps=[('scale', StandardScaler()),\n",
       "                ('model',\n",
       "                 XGBClassifier(base_score=None, booster=None, callbacks=None,\n",
       "                               colsample_bylevel=None, colsample_bynode=None,\n",
       "                               colsample_bytree=None, device=None,\n",
       "                               early_stopping_rounds=None,\n",
       "                               enable_categorical=False, eval_metric=None,\n",
       "                               feature_types=None, gamma=None, grow_policy=None,\n",
       "                               importance_type=None,\n",
       "                               interaction_constraints=None, learning_rate=0.2,\n",
       "                               max_bin=None, max_cat_threshold=None,\n",
       "                               max_cat_to_onehot=None, max_delta_step=None,\n",
       "                               max_depth=8, max_leaves=None,\n",
       "                               min_child_weight=None, missing=nan,\n",
       "                               monotone_constraints=None, multi_strategy=None,\n",
       "                               n_estimators=150, n_jobs=None,\n",
       "                               num_parallel_tree=2, random_state=60, ...))])"
      ]
     },
     "execution_count": 22,
     "metadata": {},
     "output_type": "execute_result"
    }
   ],
   "source": [
    "## 2nd try\n",
    "params2 = {\n",
    "    'model__learning_rate':[0.20, 0.22, 0.25],\n",
    "    'model__num_parallel_tree':[2],\n",
    "    'model__max_depth':[8, 10, 12],\n",
    "    'model__n_estimators':[130, 150, 180],\n",
    "}\n",
    "gc2 = GridSearchCV(pipe,\n",
    "                 param_grid=params2,\n",
    "                 cv = 3)\n",
    "gc2.fit(X_train, y_train)\n",
    "best_model = gc2.best_estimator_\n",
    "best_model"
   ]
  },
  {
   "cell_type": "markdown",
   "id": "ebf4812f-acbf-4433-817a-366d70aca482",
   "metadata": {},
   "source": [
    "<a id='xgbscore'></a>"
   ]
  },
  {
   "cell_type": "code",
   "execution_count": 23,
   "id": "9c864dcd-01a3-4038-a935-de367a1e735e",
   "metadata": {},
   "outputs": [
    {
     "data": {
      "text/plain": [
       "0.8885383806519453"
      ]
     },
     "execution_count": 23,
     "metadata": {},
     "output_type": "execute_result"
    }
   ],
   "source": [
    "best_model.score(X_test, y_test)"
   ]
  },
  {
   "cell_type": "markdown",
   "id": "1ad3c42e-5604-45df-bf3b-27d61cee58ee",
   "metadata": {},
   "source": [
    "### Summary\n",
    "\n",
    "The worset performace among the tested model was KNN, followed by Random Forest, and XGBoost showed the highest accuracy among the tested model.\n",
    "\n",
    "- [XGBoost Score](#xgbscore): 0.8885\n",
    "- [Random Forest Score](#rfscore): 0.8851\n",
    "- [KNN Score](#knnscore): 0.8483"
   ]
  },
  {
   "cell_type": "code",
   "execution_count": null,
   "id": "f573a3eb-2a5a-4ce6-864b-7d9b3502761d",
   "metadata": {},
   "outputs": [],
   "source": []
  }
 ],
 "metadata": {
  "kernelspec": {
   "display_name": "Python 3 (ipykernel)",
   "language": "python",
   "name": "python3"
  },
  "language_info": {
   "codemirror_mode": {
    "name": "ipython",
    "version": 3
   },
   "file_extension": ".py",
   "mimetype": "text/x-python",
   "name": "python",
   "nbconvert_exporter": "python",
   "pygments_lexer": "ipython3",
   "version": "3.9.13"
  }
 },
 "nbformat": 4,
 "nbformat_minor": 5
}
