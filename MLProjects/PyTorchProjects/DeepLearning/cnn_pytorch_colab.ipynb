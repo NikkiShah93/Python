{
  "nbformat": 4,
  "nbformat_minor": 0,
  "metadata": {
    "colab": {
      "provenance": [],
      "gpuType": "T4",
      "authorship_tag": "ABX9TyPn8PQjttCHqZsTgCAFcTpC",
      "include_colab_link": true
    },
    "kernelspec": {
      "name": "python3",
      "display_name": "Python 3"
    },
    "language_info": {
      "name": "python"
    },
    "accelerator": "GPU",
    "widgets": {
      "application/vnd.jupyter.widget-state+json": {
        "88bc5a0328e04cf5bf556b37f587d2ea": {
          "model_module": "@jupyter-widgets/controls",
          "model_name": "HBoxModel",
          "model_module_version": "1.5.0",
          "state": {
            "_dom_classes": [],
            "_model_module": "@jupyter-widgets/controls",
            "_model_module_version": "1.5.0",
            "_model_name": "HBoxModel",
            "_view_count": null,
            "_view_module": "@jupyter-widgets/controls",
            "_view_module_version": "1.5.0",
            "_view_name": "HBoxView",
            "box_style": "",
            "children": [
              "IPY_MODEL_e4fee2cf5e3f4b4891685ac0991e81b6",
              "IPY_MODEL_554cecc25f70437ca9e2cbbd984bb7ee",
              "IPY_MODEL_affb54e4050a4d67a26b97ff25372fa0"
            ],
            "layout": "IPY_MODEL_ccf95eee81f846f09f06e3f1aa775edc"
          }
        },
        "e4fee2cf5e3f4b4891685ac0991e81b6": {
          "model_module": "@jupyter-widgets/controls",
          "model_name": "HTMLModel",
          "model_module_version": "1.5.0",
          "state": {
            "_dom_classes": [],
            "_model_module": "@jupyter-widgets/controls",
            "_model_module_version": "1.5.0",
            "_model_name": "HTMLModel",
            "_view_count": null,
            "_view_module": "@jupyter-widgets/controls",
            "_view_module_version": "1.5.0",
            "_view_name": "HTMLView",
            "description": "",
            "description_tooltip": null,
            "layout": "IPY_MODEL_356ff2aab8804a55923279e8af6d5371",
            "placeholder": "​",
            "style": "IPY_MODEL_6e21df7304e6404280b5cf1cef1bcbb7",
            "value": "100%"
          }
        },
        "554cecc25f70437ca9e2cbbd984bb7ee": {
          "model_module": "@jupyter-widgets/controls",
          "model_name": "FloatProgressModel",
          "model_module_version": "1.5.0",
          "state": {
            "_dom_classes": [],
            "_model_module": "@jupyter-widgets/controls",
            "_model_module_version": "1.5.0",
            "_model_name": "FloatProgressModel",
            "_view_count": null,
            "_view_module": "@jupyter-widgets/controls",
            "_view_module_version": "1.5.0",
            "_view_name": "ProgressView",
            "bar_style": "success",
            "description": "",
            "description_tooltip": null,
            "layout": "IPY_MODEL_4dcb975e35294cc2813d873378c7ed06",
            "max": 4,
            "min": 0,
            "orientation": "horizontal",
            "style": "IPY_MODEL_18f8e230e8dc4c76b701d2ae0eb0c0ad",
            "value": 4
          }
        },
        "affb54e4050a4d67a26b97ff25372fa0": {
          "model_module": "@jupyter-widgets/controls",
          "model_name": "HTMLModel",
          "model_module_version": "1.5.0",
          "state": {
            "_dom_classes": [],
            "_model_module": "@jupyter-widgets/controls",
            "_model_module_version": "1.5.0",
            "_model_name": "HTMLModel",
            "_view_count": null,
            "_view_module": "@jupyter-widgets/controls",
            "_view_module_version": "1.5.0",
            "_view_name": "HTMLView",
            "description": "",
            "description_tooltip": null,
            "layout": "IPY_MODEL_7a51cf7b58094721a7eeba24bb869559",
            "placeholder": "​",
            "style": "IPY_MODEL_fe15737d8be44b3da115066e2e266273",
            "value": " 4/4 [00:34&lt;00:00,  8.39s/it]"
          }
        },
        "ccf95eee81f846f09f06e3f1aa775edc": {
          "model_module": "@jupyter-widgets/base",
          "model_name": "LayoutModel",
          "model_module_version": "1.2.0",
          "state": {
            "_model_module": "@jupyter-widgets/base",
            "_model_module_version": "1.2.0",
            "_model_name": "LayoutModel",
            "_view_count": null,
            "_view_module": "@jupyter-widgets/base",
            "_view_module_version": "1.2.0",
            "_view_name": "LayoutView",
            "align_content": null,
            "align_items": null,
            "align_self": null,
            "border": null,
            "bottom": null,
            "display": null,
            "flex": null,
            "flex_flow": null,
            "grid_area": null,
            "grid_auto_columns": null,
            "grid_auto_flow": null,
            "grid_auto_rows": null,
            "grid_column": null,
            "grid_gap": null,
            "grid_row": null,
            "grid_template_areas": null,
            "grid_template_columns": null,
            "grid_template_rows": null,
            "height": null,
            "justify_content": null,
            "justify_items": null,
            "left": null,
            "margin": null,
            "max_height": null,
            "max_width": null,
            "min_height": null,
            "min_width": null,
            "object_fit": null,
            "object_position": null,
            "order": null,
            "overflow": null,
            "overflow_x": null,
            "overflow_y": null,
            "padding": null,
            "right": null,
            "top": null,
            "visibility": null,
            "width": null
          }
        },
        "356ff2aab8804a55923279e8af6d5371": {
          "model_module": "@jupyter-widgets/base",
          "model_name": "LayoutModel",
          "model_module_version": "1.2.0",
          "state": {
            "_model_module": "@jupyter-widgets/base",
            "_model_module_version": "1.2.0",
            "_model_name": "LayoutModel",
            "_view_count": null,
            "_view_module": "@jupyter-widgets/base",
            "_view_module_version": "1.2.0",
            "_view_name": "LayoutView",
            "align_content": null,
            "align_items": null,
            "align_self": null,
            "border": null,
            "bottom": null,
            "display": null,
            "flex": null,
            "flex_flow": null,
            "grid_area": null,
            "grid_auto_columns": null,
            "grid_auto_flow": null,
            "grid_auto_rows": null,
            "grid_column": null,
            "grid_gap": null,
            "grid_row": null,
            "grid_template_areas": null,
            "grid_template_columns": null,
            "grid_template_rows": null,
            "height": null,
            "justify_content": null,
            "justify_items": null,
            "left": null,
            "margin": null,
            "max_height": null,
            "max_width": null,
            "min_height": null,
            "min_width": null,
            "object_fit": null,
            "object_position": null,
            "order": null,
            "overflow": null,
            "overflow_x": null,
            "overflow_y": null,
            "padding": null,
            "right": null,
            "top": null,
            "visibility": null,
            "width": null
          }
        },
        "6e21df7304e6404280b5cf1cef1bcbb7": {
          "model_module": "@jupyter-widgets/controls",
          "model_name": "DescriptionStyleModel",
          "model_module_version": "1.5.0",
          "state": {
            "_model_module": "@jupyter-widgets/controls",
            "_model_module_version": "1.5.0",
            "_model_name": "DescriptionStyleModel",
            "_view_count": null,
            "_view_module": "@jupyter-widgets/base",
            "_view_module_version": "1.2.0",
            "_view_name": "StyleView",
            "description_width": ""
          }
        },
        "4dcb975e35294cc2813d873378c7ed06": {
          "model_module": "@jupyter-widgets/base",
          "model_name": "LayoutModel",
          "model_module_version": "1.2.0",
          "state": {
            "_model_module": "@jupyter-widgets/base",
            "_model_module_version": "1.2.0",
            "_model_name": "LayoutModel",
            "_view_count": null,
            "_view_module": "@jupyter-widgets/base",
            "_view_module_version": "1.2.0",
            "_view_name": "LayoutView",
            "align_content": null,
            "align_items": null,
            "align_self": null,
            "border": null,
            "bottom": null,
            "display": null,
            "flex": null,
            "flex_flow": null,
            "grid_area": null,
            "grid_auto_columns": null,
            "grid_auto_flow": null,
            "grid_auto_rows": null,
            "grid_column": null,
            "grid_gap": null,
            "grid_row": null,
            "grid_template_areas": null,
            "grid_template_columns": null,
            "grid_template_rows": null,
            "height": null,
            "justify_content": null,
            "justify_items": null,
            "left": null,
            "margin": null,
            "max_height": null,
            "max_width": null,
            "min_height": null,
            "min_width": null,
            "object_fit": null,
            "object_position": null,
            "order": null,
            "overflow": null,
            "overflow_x": null,
            "overflow_y": null,
            "padding": null,
            "right": null,
            "top": null,
            "visibility": null,
            "width": null
          }
        },
        "18f8e230e8dc4c76b701d2ae0eb0c0ad": {
          "model_module": "@jupyter-widgets/controls",
          "model_name": "ProgressStyleModel",
          "model_module_version": "1.5.0",
          "state": {
            "_model_module": "@jupyter-widgets/controls",
            "_model_module_version": "1.5.0",
            "_model_name": "ProgressStyleModel",
            "_view_count": null,
            "_view_module": "@jupyter-widgets/base",
            "_view_module_version": "1.2.0",
            "_view_name": "StyleView",
            "bar_color": null,
            "description_width": ""
          }
        },
        "7a51cf7b58094721a7eeba24bb869559": {
          "model_module": "@jupyter-widgets/base",
          "model_name": "LayoutModel",
          "model_module_version": "1.2.0",
          "state": {
            "_model_module": "@jupyter-widgets/base",
            "_model_module_version": "1.2.0",
            "_model_name": "LayoutModel",
            "_view_count": null,
            "_view_module": "@jupyter-widgets/base",
            "_view_module_version": "1.2.0",
            "_view_name": "LayoutView",
            "align_content": null,
            "align_items": null,
            "align_self": null,
            "border": null,
            "bottom": null,
            "display": null,
            "flex": null,
            "flex_flow": null,
            "grid_area": null,
            "grid_auto_columns": null,
            "grid_auto_flow": null,
            "grid_auto_rows": null,
            "grid_column": null,
            "grid_gap": null,
            "grid_row": null,
            "grid_template_areas": null,
            "grid_template_columns": null,
            "grid_template_rows": null,
            "height": null,
            "justify_content": null,
            "justify_items": null,
            "left": null,
            "margin": null,
            "max_height": null,
            "max_width": null,
            "min_height": null,
            "min_width": null,
            "object_fit": null,
            "object_position": null,
            "order": null,
            "overflow": null,
            "overflow_x": null,
            "overflow_y": null,
            "padding": null,
            "right": null,
            "top": null,
            "visibility": null,
            "width": null
          }
        },
        "fe15737d8be44b3da115066e2e266273": {
          "model_module": "@jupyter-widgets/controls",
          "model_name": "DescriptionStyleModel",
          "model_module_version": "1.5.0",
          "state": {
            "_model_module": "@jupyter-widgets/controls",
            "_model_module_version": "1.5.0",
            "_model_name": "DescriptionStyleModel",
            "_view_count": null,
            "_view_module": "@jupyter-widgets/base",
            "_view_module_version": "1.2.0",
            "_view_name": "StyleView",
            "description_width": ""
          }
        },
        "ff087d86b97e4a61869c70cf546133ba": {
          "model_module": "@jupyter-widgets/controls",
          "model_name": "HBoxModel",
          "model_module_version": "1.5.0",
          "state": {
            "_dom_classes": [],
            "_model_module": "@jupyter-widgets/controls",
            "_model_module_version": "1.5.0",
            "_model_name": "HBoxModel",
            "_view_count": null,
            "_view_module": "@jupyter-widgets/controls",
            "_view_module_version": "1.5.0",
            "_view_name": "HBoxView",
            "box_style": "",
            "children": [
              "IPY_MODEL_56d6ed22330f4d3f8a228dc43b61b948",
              "IPY_MODEL_95a4cb227585487eac4f0cddf2fdb616",
              "IPY_MODEL_df7c1e78a62f412d8246b8a56d6aaf3d"
            ],
            "layout": "IPY_MODEL_d7264e698a924dd79cd188d5c51b5c87"
          }
        },
        "56d6ed22330f4d3f8a228dc43b61b948": {
          "model_module": "@jupyter-widgets/controls",
          "model_name": "HTMLModel",
          "model_module_version": "1.5.0",
          "state": {
            "_dom_classes": [],
            "_model_module": "@jupyter-widgets/controls",
            "_model_module_version": "1.5.0",
            "_model_name": "HTMLModel",
            "_view_count": null,
            "_view_module": "@jupyter-widgets/controls",
            "_view_module_version": "1.5.0",
            "_view_name": "HTMLView",
            "description": "",
            "description_tooltip": null,
            "layout": "IPY_MODEL_ed10b87551aa4650b8511c6266e48b16",
            "placeholder": "​",
            "style": "IPY_MODEL_cb4f40dee31d46aab54992f80d9b9cd9",
            "value": "100%"
          }
        },
        "95a4cb227585487eac4f0cddf2fdb616": {
          "model_module": "@jupyter-widgets/controls",
          "model_name": "FloatProgressModel",
          "model_module_version": "1.5.0",
          "state": {
            "_dom_classes": [],
            "_model_module": "@jupyter-widgets/controls",
            "_model_module_version": "1.5.0",
            "_model_name": "FloatProgressModel",
            "_view_count": null,
            "_view_module": "@jupyter-widgets/controls",
            "_view_module_version": "1.5.0",
            "_view_name": "ProgressView",
            "bar_style": "success",
            "description": "",
            "description_tooltip": null,
            "layout": "IPY_MODEL_7c2c6725f8f944b9a55eca5e43700ba5",
            "max": 5,
            "min": 0,
            "orientation": "horizontal",
            "style": "IPY_MODEL_53588f665b8b44339b25b476c0dabbc9",
            "value": 5
          }
        },
        "df7c1e78a62f412d8246b8a56d6aaf3d": {
          "model_module": "@jupyter-widgets/controls",
          "model_name": "HTMLModel",
          "model_module_version": "1.5.0",
          "state": {
            "_dom_classes": [],
            "_model_module": "@jupyter-widgets/controls",
            "_model_module_version": "1.5.0",
            "_model_name": "HTMLModel",
            "_view_count": null,
            "_view_module": "@jupyter-widgets/controls",
            "_view_module_version": "1.5.0",
            "_view_name": "HTMLView",
            "description": "",
            "description_tooltip": null,
            "layout": "IPY_MODEL_6c22a00b5c1041f19c9ba24fcf88e047",
            "placeholder": "​",
            "style": "IPY_MODEL_b3dfda883ea34b9fa1fd75741b7bfd92",
            "value": " 5/5 [00:44&lt;00:00,  8.28s/it]"
          }
        },
        "d7264e698a924dd79cd188d5c51b5c87": {
          "model_module": "@jupyter-widgets/base",
          "model_name": "LayoutModel",
          "model_module_version": "1.2.0",
          "state": {
            "_model_module": "@jupyter-widgets/base",
            "_model_module_version": "1.2.0",
            "_model_name": "LayoutModel",
            "_view_count": null,
            "_view_module": "@jupyter-widgets/base",
            "_view_module_version": "1.2.0",
            "_view_name": "LayoutView",
            "align_content": null,
            "align_items": null,
            "align_self": null,
            "border": null,
            "bottom": null,
            "display": null,
            "flex": null,
            "flex_flow": null,
            "grid_area": null,
            "grid_auto_columns": null,
            "grid_auto_flow": null,
            "grid_auto_rows": null,
            "grid_column": null,
            "grid_gap": null,
            "grid_row": null,
            "grid_template_areas": null,
            "grid_template_columns": null,
            "grid_template_rows": null,
            "height": null,
            "justify_content": null,
            "justify_items": null,
            "left": null,
            "margin": null,
            "max_height": null,
            "max_width": null,
            "min_height": null,
            "min_width": null,
            "object_fit": null,
            "object_position": null,
            "order": null,
            "overflow": null,
            "overflow_x": null,
            "overflow_y": null,
            "padding": null,
            "right": null,
            "top": null,
            "visibility": null,
            "width": null
          }
        },
        "ed10b87551aa4650b8511c6266e48b16": {
          "model_module": "@jupyter-widgets/base",
          "model_name": "LayoutModel",
          "model_module_version": "1.2.0",
          "state": {
            "_model_module": "@jupyter-widgets/base",
            "_model_module_version": "1.2.0",
            "_model_name": "LayoutModel",
            "_view_count": null,
            "_view_module": "@jupyter-widgets/base",
            "_view_module_version": "1.2.0",
            "_view_name": "LayoutView",
            "align_content": null,
            "align_items": null,
            "align_self": null,
            "border": null,
            "bottom": null,
            "display": null,
            "flex": null,
            "flex_flow": null,
            "grid_area": null,
            "grid_auto_columns": null,
            "grid_auto_flow": null,
            "grid_auto_rows": null,
            "grid_column": null,
            "grid_gap": null,
            "grid_row": null,
            "grid_template_areas": null,
            "grid_template_columns": null,
            "grid_template_rows": null,
            "height": null,
            "justify_content": null,
            "justify_items": null,
            "left": null,
            "margin": null,
            "max_height": null,
            "max_width": null,
            "min_height": null,
            "min_width": null,
            "object_fit": null,
            "object_position": null,
            "order": null,
            "overflow": null,
            "overflow_x": null,
            "overflow_y": null,
            "padding": null,
            "right": null,
            "top": null,
            "visibility": null,
            "width": null
          }
        },
        "cb4f40dee31d46aab54992f80d9b9cd9": {
          "model_module": "@jupyter-widgets/controls",
          "model_name": "DescriptionStyleModel",
          "model_module_version": "1.5.0",
          "state": {
            "_model_module": "@jupyter-widgets/controls",
            "_model_module_version": "1.5.0",
            "_model_name": "DescriptionStyleModel",
            "_view_count": null,
            "_view_module": "@jupyter-widgets/base",
            "_view_module_version": "1.2.0",
            "_view_name": "StyleView",
            "description_width": ""
          }
        },
        "7c2c6725f8f944b9a55eca5e43700ba5": {
          "model_module": "@jupyter-widgets/base",
          "model_name": "LayoutModel",
          "model_module_version": "1.2.0",
          "state": {
            "_model_module": "@jupyter-widgets/base",
            "_model_module_version": "1.2.0",
            "_model_name": "LayoutModel",
            "_view_count": null,
            "_view_module": "@jupyter-widgets/base",
            "_view_module_version": "1.2.0",
            "_view_name": "LayoutView",
            "align_content": null,
            "align_items": null,
            "align_self": null,
            "border": null,
            "bottom": null,
            "display": null,
            "flex": null,
            "flex_flow": null,
            "grid_area": null,
            "grid_auto_columns": null,
            "grid_auto_flow": null,
            "grid_auto_rows": null,
            "grid_column": null,
            "grid_gap": null,
            "grid_row": null,
            "grid_template_areas": null,
            "grid_template_columns": null,
            "grid_template_rows": null,
            "height": null,
            "justify_content": null,
            "justify_items": null,
            "left": null,
            "margin": null,
            "max_height": null,
            "max_width": null,
            "min_height": null,
            "min_width": null,
            "object_fit": null,
            "object_position": null,
            "order": null,
            "overflow": null,
            "overflow_x": null,
            "overflow_y": null,
            "padding": null,
            "right": null,
            "top": null,
            "visibility": null,
            "width": null
          }
        },
        "53588f665b8b44339b25b476c0dabbc9": {
          "model_module": "@jupyter-widgets/controls",
          "model_name": "ProgressStyleModel",
          "model_module_version": "1.5.0",
          "state": {
            "_model_module": "@jupyter-widgets/controls",
            "_model_module_version": "1.5.0",
            "_model_name": "ProgressStyleModel",
            "_view_count": null,
            "_view_module": "@jupyter-widgets/base",
            "_view_module_version": "1.2.0",
            "_view_name": "StyleView",
            "bar_color": null,
            "description_width": ""
          }
        },
        "6c22a00b5c1041f19c9ba24fcf88e047": {
          "model_module": "@jupyter-widgets/base",
          "model_name": "LayoutModel",
          "model_module_version": "1.2.0",
          "state": {
            "_model_module": "@jupyter-widgets/base",
            "_model_module_version": "1.2.0",
            "_model_name": "LayoutModel",
            "_view_count": null,
            "_view_module": "@jupyter-widgets/base",
            "_view_module_version": "1.2.0",
            "_view_name": "LayoutView",
            "align_content": null,
            "align_items": null,
            "align_self": null,
            "border": null,
            "bottom": null,
            "display": null,
            "flex": null,
            "flex_flow": null,
            "grid_area": null,
            "grid_auto_columns": null,
            "grid_auto_flow": null,
            "grid_auto_rows": null,
            "grid_column": null,
            "grid_gap": null,
            "grid_row": null,
            "grid_template_areas": null,
            "grid_template_columns": null,
            "grid_template_rows": null,
            "height": null,
            "justify_content": null,
            "justify_items": null,
            "left": null,
            "margin": null,
            "max_height": null,
            "max_width": null,
            "min_height": null,
            "min_width": null,
            "object_fit": null,
            "object_position": null,
            "order": null,
            "overflow": null,
            "overflow_x": null,
            "overflow_y": null,
            "padding": null,
            "right": null,
            "top": null,
            "visibility": null,
            "width": null
          }
        },
        "b3dfda883ea34b9fa1fd75741b7bfd92": {
          "model_module": "@jupyter-widgets/controls",
          "model_name": "DescriptionStyleModel",
          "model_module_version": "1.5.0",
          "state": {
            "_model_module": "@jupyter-widgets/controls",
            "_model_module_version": "1.5.0",
            "_model_name": "DescriptionStyleModel",
            "_view_count": null,
            "_view_module": "@jupyter-widgets/base",
            "_view_module_version": "1.2.0",
            "_view_name": "StyleView",
            "description_width": ""
          }
        }
      }
    }
  },
  "cells": [
    {
      "cell_type": "markdown",
      "metadata": {
        "id": "view-in-github",
        "colab_type": "text"
      },
      "source": [
        "<a href=\"https://colab.research.google.com/github/NikkiShah93/Python/blob/main/MLProjects/PyTorchProjects/DeepLearning/cnn_pytorch_colab.ipynb\" target=\"_parent\"><img src=\"https://colab.research.google.com/assets/colab-badge.svg\" alt=\"Open In Colab\"/></a>"
      ]
    },
    {
      "cell_type": "markdown",
      "source": [
        "## CNN in PyTorch\n",
        "\n",
        "We have two classification model in this notebook. Using the following datasets from `torchvision`.\n",
        "\n",
        "- MNIST [Documentation](https://pytorch.org/vision/main/generated/torchvision.datasets.MNIST.html)\n",
        "  - [Loading and expolarations](#mnloadex)\n",
        "  - [Starting with our CNN model](#mncnnmodel)\n",
        "\n",
        "\n",
        "- FashionMNIST [Documentation](https://pytorch.org/vision/stable/generated/torchvision.datasets.FashionMNIST.html)\n",
        "  - [Loading and expolarations](#mnfloadex)\n",
        "  - [Starting with our CNN model](#mnfcnnmodel)"
      ],
      "metadata": {
        "id": "TVPrJzt4ZjAl"
      }
    },
    {
      "cell_type": "code",
      "source": [
        "## first the imports\n",
        "import torch\n",
        "from torchvision import datasets\n",
        "import torchvision.transforms as transforms\n",
        "import torch.nn as nn\n",
        "import numpy as np\n",
        "import matplotlib.pyplot as plt\n",
        "from pathlib import Path\n",
        "from tqdm.auto import tqdm\n",
        "from timeit import default_timer as timer"
      ],
      "metadata": {
        "id": "TrqGXgGaZpID"
      },
      "execution_count": 1,
      "outputs": []
    },
    {
      "cell_type": "code",
      "source": [
        "## setting the device\n",
        "device = 'cuda' if torch.cuda.is_available() else 'cpu'\n",
        "print(device)"
      ],
      "metadata": {
        "colab": {
          "base_uri": "https://localhost:8080/"
        },
        "id": "Zqtrimt6ZpFg",
        "outputId": "6542f6c4-dd40-4328-fe64-0848ff70d4ce"
      },
      "execution_count": 2,
      "outputs": [
        {
          "output_type": "stream",
          "name": "stdout",
          "text": [
            "cuda\n"
          ]
        }
      ]
    },
    {
      "cell_type": "code",
      "source": [
        "## setting the roots\n",
        "ROOT = '/data'\n",
        "PATH = Path(ROOT)\n",
        "PATH.mkdir(parents=True, exist_ok=True)"
      ],
      "metadata": {
        "id": "N2BJoUScr_RJ"
      },
      "execution_count": 3,
      "outputs": []
    },
    {
      "cell_type": "markdown",
      "source": [
        "<a name = 'mnloadex'> </a>\n",
        "Loading and Exploration"
      ],
      "metadata": {
        "id": "6hffAmrisAaq"
      }
    },
    {
      "cell_type": "code",
      "source": [
        "## getting some toy data from torchvision\n",
        "BATCH_SIZE = 128\n",
        "MNIST_train = datasets.MNIST(root=ROOT,\n",
        "                                train=True,\n",
        "                                download=True,\n",
        "                                transform=transforms.ToTensor())\n",
        "MNIST_test = datasets.MNIST(root=ROOT,\n",
        "                                train=False,\n",
        "                                transform=transforms.ToTensor())\n",
        "print('The training data classes are: ', ', '.join(MNIST_train.classes))\n",
        "N_CLASSES = len(MNIST_train.classes)\n",
        "## next we want to load the data\n",
        "MNIST_train_loader = torch.utils.data.DataLoader(dataset=MNIST_train,\n",
        "                              batch_size=BATCH_SIZE,\n",
        "                             shuffle=True)\n",
        "\n",
        "MNIST_test_loader = torch.utils.data.DataLoader(dataset=MNIST_test,\n",
        "                              batch_size=BATCH_SIZE,\n",
        "                             shuffle=True)\n",
        "\n",
        "## checking out our first bacth\n",
        "example_iter = iter(MNIST_train_loader)\n",
        "next_obj = next(example_iter)\n",
        "n_channels = next_obj[0].shape[1]\n",
        "n_inputs = next_obj[0].shape[-1]\n",
        "print(next_obj[0].shape, type(next_obj[0]))\n",
        "print(len(MNIST_train_loader))"
      ],
      "metadata": {
        "colab": {
          "base_uri": "https://localhost:8080/"
        },
        "id": "_TGteFldZpDB",
        "outputId": "4d35bdf2-f7f4-4917-de6f-61e7dd95d439"
      },
      "execution_count": 4,
      "outputs": [
        {
          "output_type": "stream",
          "name": "stdout",
          "text": [
            "Downloading http://yann.lecun.com/exdb/mnist/train-images-idx3-ubyte.gz\n",
            "Failed to download (trying next):\n",
            "HTTP Error 403: Forbidden\n",
            "\n",
            "Downloading https://ossci-datasets.s3.amazonaws.com/mnist/train-images-idx3-ubyte.gz\n",
            "Downloading https://ossci-datasets.s3.amazonaws.com/mnist/train-images-idx3-ubyte.gz to /data/MNIST/raw/train-images-idx3-ubyte.gz\n"
          ]
        },
        {
          "output_type": "stream",
          "name": "stderr",
          "text": [
            "100%|██████████| 9912422/9912422 [00:00<00:00, 18380733.18it/s]\n"
          ]
        },
        {
          "output_type": "stream",
          "name": "stdout",
          "text": [
            "Extracting /data/MNIST/raw/train-images-idx3-ubyte.gz to /data/MNIST/raw\n",
            "\n",
            "Downloading http://yann.lecun.com/exdb/mnist/train-labels-idx1-ubyte.gz\n",
            "Failed to download (trying next):\n",
            "HTTP Error 403: Forbidden\n",
            "\n",
            "Downloading https://ossci-datasets.s3.amazonaws.com/mnist/train-labels-idx1-ubyte.gz\n",
            "Downloading https://ossci-datasets.s3.amazonaws.com/mnist/train-labels-idx1-ubyte.gz to /data/MNIST/raw/train-labels-idx1-ubyte.gz\n"
          ]
        },
        {
          "output_type": "stream",
          "name": "stderr",
          "text": [
            "100%|██████████| 28881/28881 [00:00<00:00, 498607.50it/s]\n"
          ]
        },
        {
          "output_type": "stream",
          "name": "stdout",
          "text": [
            "Extracting /data/MNIST/raw/train-labels-idx1-ubyte.gz to /data/MNIST/raw\n",
            "\n",
            "Downloading http://yann.lecun.com/exdb/mnist/t10k-images-idx3-ubyte.gz\n",
            "Failed to download (trying next):\n",
            "HTTP Error 403: Forbidden\n",
            "\n",
            "Downloading https://ossci-datasets.s3.amazonaws.com/mnist/t10k-images-idx3-ubyte.gz\n",
            "Downloading https://ossci-datasets.s3.amazonaws.com/mnist/t10k-images-idx3-ubyte.gz to /data/MNIST/raw/t10k-images-idx3-ubyte.gz\n"
          ]
        },
        {
          "output_type": "stream",
          "name": "stderr",
          "text": [
            "100%|██████████| 1648877/1648877 [00:00<00:00, 4471977.86it/s]\n"
          ]
        },
        {
          "output_type": "stream",
          "name": "stdout",
          "text": [
            "Extracting /data/MNIST/raw/t10k-images-idx3-ubyte.gz to /data/MNIST/raw\n",
            "\n",
            "Downloading http://yann.lecun.com/exdb/mnist/t10k-labels-idx1-ubyte.gz\n",
            "Failed to download (trying next):\n",
            "HTTP Error 403: Forbidden\n",
            "\n",
            "Downloading https://ossci-datasets.s3.amazonaws.com/mnist/t10k-labels-idx1-ubyte.gz\n",
            "Downloading https://ossci-datasets.s3.amazonaws.com/mnist/t10k-labels-idx1-ubyte.gz to /data/MNIST/raw/t10k-labels-idx1-ubyte.gz\n"
          ]
        },
        {
          "output_type": "stream",
          "name": "stderr",
          "text": [
            "100%|██████████| 4542/4542 [00:00<00:00, 5533119.01it/s]\n"
          ]
        },
        {
          "output_type": "stream",
          "name": "stdout",
          "text": [
            "Extracting /data/MNIST/raw/t10k-labels-idx1-ubyte.gz to /data/MNIST/raw\n",
            "\n",
            "The training data classes are:  0 - zero, 1 - one, 2 - two, 3 - three, 4 - four, 5 - five, 6 - six, 7 - seven, 8 - eight, 9 - nine\n",
            "torch.Size([128, 1, 28, 28]) <class 'torch.Tensor'>\n",
            "469\n"
          ]
        }
      ]
    },
    {
      "cell_type": "code",
      "source": [
        "## plotting some images\n",
        "fig, ax = plt.subplots(nrows = 2, ncols=4,\n",
        "                       figsize = (6, 4))\n",
        "c = 0\n",
        "for i in range(2):\n",
        "  for j in range(4):\n",
        "    ax[i, j].imshow(torch.permute_copy(next_obj[0][c],\n",
        "                                       dims = [1, 2, 0]), ## moving the color to the end we could also use squeeze for greyscalse\n",
        "                    cmap='Greys')\n",
        "    c +=1\n",
        "    ax[i, j].set_axis_off()"
      ],
      "metadata": {
        "colab": {
          "base_uri": "https://localhost:8080/",
          "height": 306
        },
        "id": "GgVgqYyLZpAN",
        "outputId": "0083cc57-543d-48c0-c499-144327df026f"
      },
      "execution_count": 5,
      "outputs": [
        {
          "output_type": "display_data",
          "data": {
            "text/plain": [
              "<Figure size 600x400 with 8 Axes>"
            ],
            "image/png": "[encoded data removed]"
          },
          "metadata": {}
        }
      ]
    },
    {
      "cell_type": "markdown",
      "source": [
        "<a name = mncnnmodel> </a>\n",
        "Starting with our CNN model"
      ],
      "metadata": {
        "id": "c88jTOH2s-bs"
      }
    },
    {
      "cell_type": "code",
      "source": [
        "## next the actual model\n",
        "class ClassificationModel(nn.Module):\n",
        "  def __init__(self, n_in, n_out, hidden, n_ch):\n",
        "    super().__init__()\n",
        "\n",
        "    self.conv1= nn.Conv2d(in_channels= n_ch,\n",
        "                  out_channels=n_in,\n",
        "                  kernel_size=3)\n",
        "    self.relu = nn.ReLU()\n",
        "    self.pool = nn.MaxPool2d(2,2)\n",
        "    self.conv2 = nn.Conv2d(in_channels=n_in,\n",
        "                  out_channels=hidden,\n",
        "                  kernel_size=3)\n",
        "    self.l1 = nn.Linear(in_features = hidden*5*5,\n",
        "                  out_features=hidden)\n",
        "    self.l2 = nn.Linear(in_features=hidden,\n",
        "                  out_features=n_out)\n",
        "\n",
        "  def forward(self, x):\n",
        "    out = self.pool(self.relu(self.conv1(x)))\n",
        "    out = self.pool(self.relu(self.conv2(out)))\n",
        "    out = torch.flatten(out, 1)\n",
        "    out = self.relu(self.l1(out))\n",
        "    return self.l2(out)\n",
        "\n",
        "## creating an instance\n",
        "model = ClassificationModel(n_ch=n_channels,\n",
        "                            n_in=n_inputs,\n",
        "                            n_out=N_CLASSES,\n",
        "                            hidden=8**2).to(device)\n",
        "learning_rate = 1e-3\n",
        "## starting with loss and optimizer\n",
        "loss_fn = nn.CrossEntropyLoss()\n",
        "optimizer = torch.optim.Adam(params=model.parameters(),\n",
        "                             lr=learning_rate)\n",
        "## next is the training loop\n",
        "epochs = 4\n",
        "avg_loss = 0.0\n",
        "start = timer()\n",
        "for e in tqdm(range(epochs)):\n",
        "  for image, labels in MNIST_train_loader:\n",
        "    image, labels = image.to(device), labels.to(device)\n",
        "    pred_labels = model(image)\n",
        "    l = loss_fn(pred_labels, labels)\n",
        "    optimizer.zero_grad()\n",
        "    l.backward()\n",
        "    optimizer.step()\n",
        "    avg_loss += l.item()\n",
        "  print(f'Epoch: {e} - Average Loss:{avg_loss/len(MNIST_train_loader):.4f}')\n",
        "  avg_loss = 0.0\n",
        "\n",
        "end = timer()\n",
        "print(f'Time taken: {(end - start):.3} seconds')"
      ],
      "metadata": {
        "colab": {
          "base_uri": "https://localhost:8080/",
          "height": 136,
          "referenced_widgets": [
            "88bc5a0328e04cf5bf556b37f587d2ea",
            "e4fee2cf5e3f4b4891685ac0991e81b6",
            "554cecc25f70437ca9e2cbbd984bb7ee",
            "affb54e4050a4d67a26b97ff25372fa0",
            "ccf95eee81f846f09f06e3f1aa775edc",
            "356ff2aab8804a55923279e8af6d5371",
            "6e21df7304e6404280b5cf1cef1bcbb7",
            "4dcb975e35294cc2813d873378c7ed06",
            "18f8e230e8dc4c76b701d2ae0eb0c0ad",
            "7a51cf7b58094721a7eeba24bb869559",
            "fe15737d8be44b3da115066e2e266273"
          ]
        },
        "id": "PUINM6r-Zo9e",
        "outputId": "0ed6856c-9c96-46ce-a157-8e09553603af"
      },
      "execution_count": 6,
      "outputs": [
        {
          "output_type": "display_data",
          "data": {
            "text/plain": [
              "  0%|          | 0/4 [00:00<?, ?it/s]"
            ],
            "application/vnd.jupyter.widget-view+json": {
              "version_major": 2,
              "version_minor": 0,
              "model_id": "88bc5a0328e04cf5bf556b37f587d2ea"
            }
          },
          "metadata": {}
        },
        {
          "output_type": "stream",
          "name": "stdout",
          "text": [
            "Epoch: 0 - Average Loss:0.2723\n",
            "Epoch: 1 - Average Loss:0.0721\n",
            "Epoch: 2 - Average Loss:0.0507\n",
            "Epoch: 3 - Average Loss:0.0406\n",
            "Time taken: 34.7 seconds\n"
          ]
        }
      ]
    },
    {
      "cell_type": "code",
      "source": [
        "## starting with the test loop\n",
        "model.eval()\n",
        "avg_test_loss = 0\n",
        "with torch.inference_mode():\n",
        "  for test_image, test_label in MNIST_test_loader:\n",
        "    test_image, test_label = test_image.to(device), test_label.to(device)\n",
        "    test_preds = model(test_image)\n",
        "    test_loss = loss_fn(test_preds, test_label)\n",
        "    avg_test_loss += test_loss.item()\n",
        "  print(f'The average test loss is: {avg_test_loss/len(MNIST_test_loader):.4f}')"
      ],
      "metadata": {
        "colab": {
          "base_uri": "https://localhost:8080/"
        },
        "id": "JmSQqjEwZo61",
        "outputId": "9aae3e32-4e1e-4bb3-8b9f-75751904b47f"
      },
      "execution_count": 7,
      "outputs": [
        {
          "output_type": "stream",
          "name": "stdout",
          "text": [
            "The average test loss is: 0.0389\n"
          ]
        }
      ]
    },
    {
      "cell_type": "markdown",
      "source": [
        "## FashionMNIST Example"
      ],
      "metadata": {
        "id": "Hy5x_R-Un_yD"
      }
    },
    {
      "cell_type": "markdown",
      "source": [
        "<a name = 'mnfloadex'> </a>\n",
        "Loading and Explorations"
      ],
      "metadata": {
        "id": "lPIl1zfVsazJ"
      }
    },
    {
      "cell_type": "code",
      "source": [
        "BATCH_SIZE = 128\n",
        "fashin_train = datasets.FashionMNIST(root=ROOT,\n",
        "                                     train=True,\n",
        "                                     download=True,\n",
        "                                     transform=transforms.ToTensor())\n",
        "fashin_test = datasets.FashionMNIST(root=ROOT,\n",
        "                                    train=False,\n",
        "                                     transform=transforms.ToTensor())\n",
        "print('The training data classes are:', ', '.join(fashin_train.classes))\n",
        "classes = fashin_train.classes\n",
        "N_CLASSES = len(classes)\n",
        "train_loader = torch.utils.data.DataLoader(fashin_train,\n",
        "                                           batch_size = BATCH_SIZE,\n",
        "                                           shuffle=True)\n",
        "test_loader = torch.utils.data.DataLoader(fashin_test,\n",
        "                                           batch_size = BATCH_SIZE,\n",
        "                                          shuffle=True)\n",
        "## checking out our data\n",
        "example_iter = iter(train_loader)\n",
        "example_image, example_label = next(example_iter)\n",
        "IN_CHANNELS = example_image.shape[1]\n",
        "N_INPUTS = example_image.shape[2]\n",
        "print(example_image.shape, type(example_image), example_label.shape)"
      ],
      "metadata": {
        "colab": {
          "base_uri": "https://localhost:8080/"
        },
        "id": "zF5WqBjzn_gM",
        "outputId": "290e360a-951b-4b99-8091-25c51760d12d"
      },
      "execution_count": 8,
      "outputs": [
        {
          "output_type": "stream",
          "name": "stdout",
          "text": [
            "Downloading http://fashion-mnist.s3-website.eu-central-1.amazonaws.com/train-images-idx3-ubyte.gz\n",
            "Downloading http://fashion-mnist.s3-website.eu-central-1.amazonaws.com/train-images-idx3-ubyte.gz to /data/FashionMNIST/raw/train-images-idx3-ubyte.gz\n"
          ]
        },
        {
          "output_type": "stream",
          "name": "stderr",
          "text": [
            "100%|██████████| 26421880/26421880 [00:02<00:00, 11944922.66it/s]\n"
          ]
        },
        {
          "output_type": "stream",
          "name": "stdout",
          "text": [
            "Extracting /data/FashionMNIST/raw/train-images-idx3-ubyte.gz to /data/FashionMNIST/raw\n",
            "\n",
            "Downloading http://fashion-mnist.s3-website.eu-central-1.amazonaws.com/train-labels-idx1-ubyte.gz\n",
            "Downloading http://fashion-mnist.s3-website.eu-central-1.amazonaws.com/train-labels-idx1-ubyte.gz to /data/FashionMNIST/raw/train-labels-idx1-ubyte.gz\n"
          ]
        },
        {
          "output_type": "stream",
          "name": "stderr",
          "text": [
            "100%|██████████| 29515/29515 [00:00<00:00, 202313.93it/s]\n"
          ]
        },
        {
          "output_type": "stream",
          "name": "stdout",
          "text": [
            "Extracting /data/FashionMNIST/raw/train-labels-idx1-ubyte.gz to /data/FashionMNIST/raw\n",
            "\n",
            "Downloading http://fashion-mnist.s3-website.eu-central-1.amazonaws.com/t10k-images-idx3-ubyte.gz\n",
            "Downloading http://fashion-mnist.s3-website.eu-central-1.amazonaws.com/t10k-images-idx3-ubyte.gz to /data/FashionMNIST/raw/t10k-images-idx3-ubyte.gz\n"
          ]
        },
        {
          "output_type": "stream",
          "name": "stderr",
          "text": [
            "100%|██████████| 4422102/4422102 [00:01<00:00, 3732606.73it/s]\n"
          ]
        },
        {
          "output_type": "stream",
          "name": "stdout",
          "text": [
            "Extracting /data/FashionMNIST/raw/t10k-images-idx3-ubyte.gz to /data/FashionMNIST/raw\n",
            "\n",
            "Downloading http://fashion-mnist.s3-website.eu-central-1.amazonaws.com/t10k-labels-idx1-ubyte.gz\n",
            "Downloading http://fashion-mnist.s3-website.eu-central-1.amazonaws.com/t10k-labels-idx1-ubyte.gz to /data/FashionMNIST/raw/t10k-labels-idx1-ubyte.gz\n"
          ]
        },
        {
          "output_type": "stream",
          "name": "stderr",
          "text": [
            "100%|██████████| 5148/5148 [00:00<00:00, 5754871.27it/s]"
          ]
        },
        {
          "output_type": "stream",
          "name": "stdout",
          "text": [
            "Extracting /data/FashionMNIST/raw/t10k-labels-idx1-ubyte.gz to /data/FashionMNIST/raw\n",
            "\n",
            "The training data classes are: T-shirt/top, Trouser, Pullover, Dress, Coat, Sandal, Shirt, Sneaker, Bag, Ankle boot\n",
            "torch.Size([128, 1, 28, 28]) <class 'torch.Tensor'> torch.Size([128])\n"
          ]
        },
        {
          "output_type": "stream",
          "name": "stderr",
          "text": [
            "\n"
          ]
        }
      ]
    },
    {
      "cell_type": "code",
      "source": [
        "## plot some examples\n",
        "fig, ax = plt.subplots(nrows=2, ncols=4, figsize = (4, 4))\n",
        "c = 0\n",
        "for i in range(2):\n",
        "  for j in range(4):\n",
        "    ax[i, j].imshow(torch.permute(example_image[c], [1,2,0])\n",
        "    , cmap='Greys')\n",
        "    ax[i, j].set_title(classes[example_label[c].item()])\n",
        "    c+=1\n",
        "    ax[i, j].set_axis_off()\n",
        "fig.tight_layout();"
      ],
      "metadata": {
        "colab": {
          "base_uri": "https://localhost:8080/",
          "height": 307
        },
        "id": "2Cmj39IMn_eE",
        "outputId": "139817f3-86b4-4475-ce76-2f4c3bc869d7"
      },
      "execution_count": 9,
      "outputs": [
        {
          "output_type": "display_data",
          "data": {
            "text/plain": [
              "<Figure size 400x400 with 8 Axes>"
            ],
            "image/png": "[encoded data removed]"
          },
          "metadata": {}
        }
      ]
    },
    {
      "cell_type": "markdown",
      "source": [
        "<a name = mnfcnnmodel> </a>\n",
        "Starting with our CNN model"
      ],
      "metadata": {
        "id": "gYU7uEo9szfg"
      }
    },
    {
      "cell_type": "code",
      "source": [
        "## starting with the model\n",
        "class Classifier(nn.Module):\n",
        "  def __init__(self, n_channels, n_inputs, n_hidden, n_classes):\n",
        "    super().__init__()\n",
        "    self.conv1 = nn.Conv2d(n_channels, n_inputs, 5)\n",
        "    self.conv2 = nn.Conv2d(n_inputs, n_hidden, 5)\n",
        "    self.pool = nn.MaxPool2d(2,2)\n",
        "    self.relu = nn.ReLU()\n",
        "    self.l1 = nn.Linear(in_features= n_hidden*4*4,\n",
        "                        out_features=n_hidden)\n",
        "    self.l2 = nn.Linear(in_features=n_hidden,\n",
        "                        out_features=n_classes)\n",
        "  def forward(self, x:torch.tensor) -> torch.tensor:\n",
        "    out = self.pool(self.relu(self.conv1(x)))\n",
        "    out = self.pool(self.relu(self.conv2(out)))\n",
        "    out = torch.flatten(out, 1)\n",
        "    out = self.l1(out)\n",
        "    return self.l2(out)\n",
        "\n",
        "learning_rate = 1e-3\n",
        "model_2 = Classifier(n_channels=IN_CHANNELS,\n",
        "                     n_inputs=N_INPUTS,\n",
        "                     n_hidden=8**2,\n",
        "                     n_classes=N_CLASSES).to(device)\n",
        "## starting with the loss and optimizer\n",
        "loss_fn = nn.CrossEntropyLoss()\n",
        "optimizer = torch.optim.Adam(params = model_2.parameters(),\n",
        "                             lr=learning_rate)\n",
        "\n",
        "## starting with the training loop\n",
        "epochs = 5\n",
        "avg_loss = 0.0\n",
        "start = timer()\n",
        "for e in tqdm(range(epochs)):\n",
        "  for image, labels in train_loader:\n",
        "    image, labels = image.to(device), labels.to(device)\n",
        "    pred_labels = model_2(image)\n",
        "    loss = loss_fn(pred_labels, labels)\n",
        "    optimizer.zero_grad()\n",
        "    loss.backward()\n",
        "    optimizer.step()\n",
        "    avg_loss += loss.item()\n",
        "  print(f'Epoch: {e} - Average Loss:{avg_loss/len(train_loader):.4f}')\n",
        "  avg_loss = 0.0\n",
        "end = timer()\n",
        "print(f'Time taken: {(end - start):.3f}')"
      ],
      "metadata": {
        "colab": {
          "base_uri": "https://localhost:8080/",
          "height": 153,
          "referenced_widgets": [
            "ff087d86b97e4a61869c70cf546133ba",
            "56d6ed22330f4d3f8a228dc43b61b948",
            "95a4cb227585487eac4f0cddf2fdb616",
            "df7c1e78a62f412d8246b8a56d6aaf3d",
            "d7264e698a924dd79cd188d5c51b5c87",
            "ed10b87551aa4650b8511c6266e48b16",
            "cb4f40dee31d46aab54992f80d9b9cd9",
            "7c2c6725f8f944b9a55eca5e43700ba5",
            "53588f665b8b44339b25b476c0dabbc9",
            "6c22a00b5c1041f19c9ba24fcf88e047",
            "b3dfda883ea34b9fa1fd75741b7bfd92"
          ]
        },
        "id": "QWB2LfnWn_bD",
        "outputId": "ed1dc094-eb95-45a5-8c9f-65830da501eb"
      },
      "execution_count": 10,
      "outputs": [
        {
          "output_type": "display_data",
          "data": {
            "text/plain": [
              "  0%|          | 0/5 [00:00<?, ?it/s]"
            ],
            "application/vnd.jupyter.widget-view+json": {
              "version_major": 2,
              "version_minor": 0,
              "model_id": "ff087d86b97e4a61869c70cf546133ba"
            }
          },
          "metadata": {}
        },
        {
          "output_type": "stream",
          "name": "stdout",
          "text": [
            "Epoch: 0 - Average Loss:0.5789\n",
            "Epoch: 1 - Average Loss:0.3691\n",
            "Epoch: 2 - Average Loss:0.3182\n",
            "Epoch: 3 - Average Loss:0.2880\n",
            "Epoch: 4 - Average Loss:0.2647\n",
            "Time taken: 44.009\n"
          ]
        }
      ]
    },
    {
      "cell_type": "code",
      "source": [
        "## the testing loop\n",
        "model_2.eval()\n",
        "avg_test_loss = 0\n",
        "with torch.inference_mode():\n",
        "  for test_image, test_label in test_loader:\n",
        "    test_image, test_label = test_image.to(device), test_label.to(device)\n",
        "    test_pred = model_2(test_image)\n",
        "    test_loss = loss_fn(test_pred, test_label)\n",
        "    avg_test_loss += test_loss.item()\n",
        "  print(f'The average test loss: {avg_test_loss/len(test_loader):.4}')"
      ],
      "metadata": {
        "colab": {
          "base_uri": "https://localhost:8080/"
        },
        "id": "2-dhNDjIZo1b",
        "outputId": "70f14dc3-cc14-4738-c60c-f80de0187c26"
      },
      "execution_count": 11,
      "outputs": [
        {
          "output_type": "stream",
          "name": "stdout",
          "text": [
            "The average test loss: 0.2846\n"
          ]
        }
      ]
    },
    {
      "cell_type": "code",
      "execution_count": 11,
      "metadata": {
        "id": "2OUUMBxzZW2D"
      },
      "outputs": [],
      "source": []
    }
  ]
}