{
 "cells": [
  {
   "cell_type": "markdown",
   "metadata": {
    "id": "TVPrJzt4ZjAl"
   },
   "source": [
    "## CNN in PyTorch\n",
    "\n",
    "We have two classification model in this notebook. Using the following datasets from `torchvision`.\n",
    "\n",
    "- MNIST [Documentation](https://pytorch.org/vision/main/generated/torchvision.datasets.MNIST.html)\n",
    "  - [Loading and expolarations](#mnloadex)\n",
    "  - [Starting with our CNN model](#mncnnmodel)\n",
    "\n",
    "\n",
    "- FashionMNIST [Documentation](https://pytorch.org/vision/stable/generated/torchvision.datasets.FashionMNIST.html)\n",
    "  - [Loading and expolarations](#mnfloadex)\n",
    "  - [Starting with our CNN model](#mnfcnnmodel)"
   ]
  },
  {
   "cell_type": "code",
   "execution_count": 124,
   "metadata": {
    "id": "TrqGXgGaZpID"
   },
   "outputs": [],
   "source": [
    "## first the imports\n",
    "import torch\n",
    "from torchvision import datasets\n",
    "import torchvision.transforms as transforms\n",
    "import torch.nn as nn\n",
    "import numpy as np\n",
    "import matplotlib.pyplot as plt\n",
    "from pathlib import Path\n",
    "from tqdm.auto import tqdm\n",
    "from timeit import default_timer as timer"
   ]
  },
  {
   "cell_type": "code",
   "execution_count": 94,
   "metadata": {
    "colab": {
     "base_uri": "https://localhost:8080/"
    },
    "id": "Zqtrimt6ZpFg",
    "outputId": "d9f16c83-c2b4-45d8-941d-776074bbbf83"
   },
   "outputs": [
    {
     "name": "stdout",
     "output_type": "stream",
     "text": [
      "cpu\n"
     ]
    }
   ],
   "source": [
    "## setting the device\n",
    "device = 'cuda' if torch.cuda.is_available() else 'cpu'\n",
    "print(device)"
   ]
  },
  {
   "cell_type": "code",
   "execution_count": 127,
   "metadata": {
    "id": "N2BJoUScr_RJ"
   },
   "outputs": [],
   "source": [
    "## setting the roots\n",
    "ROOT = '/data'\n",
    "PATH = Path(ROOT)\n",
    "PATH.mkdir(parents=True, exist_ok=True)"
   ]
  },
  {
   "cell_type": "markdown",
   "metadata": {
    "id": "6hffAmrisAaq"
   },
   "source": [
    "<a name = 'mnloadex'> </a>\n",
    "Loading and Exploration"
   ]
  },
  {
   "cell_type": "code",
   "execution_count": 118,
   "metadata": {
    "colab": {
     "base_uri": "https://localhost:8080/"
    },
    "id": "_TGteFldZpDB",
    "outputId": "13b00423-d777-45d1-bb14-2a8beb836959"
   },
   "outputs": [
    {
     "name": "stdout",
     "output_type": "stream",
     "text": [
      "The training data classes are:  0 - zero, 1 - one, 2 - two, 3 - three, 4 - four, 5 - five, 6 - six, 7 - seven, 8 - eight, 9 - nine\n",
      "torch.Size([128, 1, 28, 28]) <class 'torch.Tensor'>\n",
      "469\n"
     ]
    }
   ],
   "source": [
    "## getting some toy data from torchvision\n",
    "BATCH_SIZE = 128\n",
    "MNIST_train = datasets.MNIST(root=ROOT,\n",
    "                                train=True,\n",
    "                                download=True,\n",
    "                                transform=transforms.ToTensor())\n",
    "MNIST_test = datasets.MNIST(root=ROOT,\n",
    "                                train=False,\n",
    "                                transform=transforms.ToTensor())\n",
    "print('The training data classes are: ', ', '.join(MNIST_train.classes))\n",
    "N_CLASSES = len(MNIST_train.classes)\n",
    "## next we want to load the data\n",
    "MNIST_train_loader = torch.utils.data.DataLoader(dataset=MNIST_train,\n",
    "                              batch_size=BATCH_SIZE,\n",
    "                             shuffle=True)\n",
    "\n",
    "MNIST_test_loader = torch.utils.data.DataLoader(dataset=MNIST_test,\n",
    "                              batch_size=BATCH_SIZE,\n",
    "                             shuffle=True)\n",
    "\n",
    "## checking out our first bacth\n",
    "example_iter = iter(MNIST_train_loader)\n",
    "next_obj = next(example_iter)\n",
    "n_channels = next_obj[0].shape[1]\n",
    "n_inputs = next_obj[0].shape[-1]\n",
    "print(next_obj[0].shape, type(next_obj[0]))\n",
    "print(len(MNIST_train_loader))"
   ]
  },
  {
   "cell_type": "code",
   "execution_count": 102,
   "metadata": {
    "colab": {
     "base_uri": "https://localhost:8080/",
     "height": 306
    },
    "id": "GgVgqYyLZpAN",
    "outputId": "da329979-251b-4611-d12c-76d1486439db"
   },
   "outputs": [
    {
     "data": {
      "image/png": "[encoded data removed]",
      "text/plain": [
       "<Figure size 600x400 with 8 Axes>"
      ]
     },
     "metadata": {},
     "output_type": "display_data"
    }
   ],
   "source": [
    "## plotting some images\n",
    "fig, ax = plt.subplots(nrows = 2, ncols=4,\n",
    "                       figsize = (6, 4))\n",
    "c = 0\n",
    "for i in range(2):\n",
    "  for j in range(4):\n",
    "    ax[i, j].imshow(torch.permute_copy(next_obj[0][c],\n",
    "                                       dims = [1, 2, 0]), ## moving the color to the end we could also use squeeze for greyscalse\n",
    "                    cmap='Greys')\n",
    "    c +=1\n",
    "    ax[i, j].set_axis_off()"
   ]
  },
  {
   "cell_type": "markdown",
   "metadata": {
    "id": "c88jTOH2s-bs"
   },
   "source": [
    "<a name = mncnnmodel> </a>\n",
    "Starting with our CNN model"
   ]
  },
  {
   "cell_type": "code",
   "execution_count": 126,
   "metadata": {
    "colab": {
     "base_uri": "https://localhost:8080/",
     "height": 136,
     "referenced_widgets": [
      "9105e6597a8340baa3b42bc00a3f3930",
      "fdf25a05352145cbae45f0a123056697",
      "7f491459369f4ae2ae554b259fe6d550",
      "46c696f5b07e4ed69c29eb5be0a554e1",
      "52fa7c1c5aa1432db9c60970dbef5e17",
      "3b5711d036ed4fcf97c099f29714dfaf",
      "3f78aabaacaa40b1875f36d25d47cb72",
      "d7ce517ae3ef43b39d8bda6e435cb22a",
      "a737c67344d64bd7a1fd9395e2480051",
      "5587b98957214f39a5dca88cff71e893",
      "3ace971859614448a7c2433d57c1a70b"
     ]
    },
    "id": "PUINM6r-Zo9e",
    "outputId": "7f430495-88c5-4047-c183-f943273878c0"
   },
   "outputs": [
    {
     "data": {
      "application/vnd.jupyter.widget-view+json": {
       "model_id": "9105e6597a8340baa3b42bc00a3f3930",
       "version_major": 2,
       "version_minor": 0
      },
      "text/plain": [
       "  0%|          | 0/4 [00:00<?, ?it/s]"
      ]
     },
     "metadata": {},
     "output_type": "display_data"
    },
    {
     "name": "stdout",
     "output_type": "stream",
     "text": [
      "Epoch: 0 - Average Loss:0.2922\n",
      "Epoch: 1 - Average Loss:0.0750\n",
      "Epoch: 2 - Average Loss:0.0531\n",
      "Epoch: 3 - Average Loss:0.0406\n",
      "Time taken: 2.48e+02 seconds\n"
     ]
    }
   ],
   "source": [
    "## next the actual model\n",
    "class ClassificationModel(nn.Module):\n",
    "  def __init__(self, n_in, n_out, hidden, n_ch):\n",
    "    super().__init__()\n",
    "\n",
    "    self.conv1= nn.Conv2d(in_channels= n_ch,\n",
    "                  out_channels=n_in,\n",
    "                  kernel_size=3)\n",
    "    self.relu = nn.ReLU()\n",
    "    self.pool = nn.MaxPool2d(2,2)\n",
    "    self.conv2 = nn.Conv2d(in_channels=n_in,\n",
    "                  out_channels=hidden,\n",
    "                  kernel_size=3)\n",
    "    self.l1 = nn.Linear(in_features = hidden*5*5,\n",
    "                  out_features=hidden)\n",
    "    self.l2 = nn.Linear(in_features=hidden,\n",
    "                  out_features=n_out)\n",
    "\n",
    "  def forward(self, x):\n",
    "    out = self.pool(self.relu(self.conv1(x)))\n",
    "    out = self.pool(self.relu(self.conv2(out)))\n",
    "    out = torch.flatten(out, 1)\n",
    "    out = self.relu(self.l1(out))\n",
    "    return self.l2(out)\n",
    "\n",
    "## creating an instance\n",
    "model = ClassificationModel(n_ch=n_channels,\n",
    "                            n_in=n_inputs,\n",
    "                            n_out=N_CLASSES,\n",
    "                            hidden=8**2).to(device)\n",
    "learning_rate = 1e-3\n",
    "## starting with loss and optimizer\n",
    "loss_fn = nn.CrossEntropyLoss()\n",
    "optimizer = torch.optim.Adam(params=model.parameters(),\n",
    "                             lr=learning_rate)\n",
    "## next is the training loop\n",
    "epochs = 4\n",
    "avg_loss = 0.0\n",
    "start = timer()\n",
    "for e in tqdm(range(epochs)):\n",
    "  for image, labels in MNIST_train_loader:\n",
    "    image, labels = image.to(device), labels.to(device)\n",
    "    pred_labels = model(image)\n",
    "    l = loss_fn(pred_labels, labels)\n",
    "    optimizer.zero_grad()\n",
    "    l.backward()\n",
    "    optimizer.step()\n",
    "    avg_loss += l.item()\n",
    "  print(f'Epoch: {e} - Average Loss:{avg_loss/len(MNIST_train_loader):.4f}')\n",
    "  avg_loss = 0.0\n",
    "\n",
    "end = timer()\n",
    "print(f'Time taken: {(end - start):.3} seconds')"
   ]
  },
  {
   "cell_type": "code",
   "execution_count": 123,
   "metadata": {
    "colab": {
     "base_uri": "https://localhost:8080/"
    },
    "id": "JmSQqjEwZo61",
    "outputId": "b6bd46cf-b7ca-45e8-c829-ff46202d480f"
   },
   "outputs": [
    {
     "name": "stdout",
     "output_type": "stream",
     "text": [
      "The test loss is: 0.0394\n"
     ]
    }
   ],
   "source": [
    "## starting with the test loop\n",
    "model.eval()\n",
    "avg_test_loss = 0\n",
    "with torch.inference_mode():\n",
    "  for test_image, test_label in MNIST_test_loader:\n",
    "    test_image, test_label = test_image.to(device), test_label.to(device)\n",
    "    test_preds = model(test_image)\n",
    "    test_loss = loss_fn(test_preds, test_label)\n",
    "    avg_test_loss += test_loss.item()\n",
    "  print(f'The average test loss is: {avg_test_loss/len(MNIST_test_loader):.4f}')"
   ]
  },
  {
   "cell_type": "markdown",
   "metadata": {
    "id": "Hy5x_R-Un_yD"
   },
   "source": [
    "## FashionMNIST Example"
   ]
  },
  {
   "cell_type": "markdown",
   "metadata": {
    "id": "lPIl1zfVsazJ"
   },
   "source": [
    "<a name = 'mnfloadex'> </a>\n",
    "Loading and Explorations"
   ]
  },
  {
   "cell_type": "code",
   "execution_count": 112,
   "metadata": {
    "colab": {
     "base_uri": "https://localhost:8080/"
    },
    "id": "zF5WqBjzn_gM",
    "outputId": "c8ced2ba-3ae6-4614-b8dc-3c0014fbc5f9"
   },
   "outputs": [
    {
     "name": "stdout",
     "output_type": "stream",
     "text": [
      "The training data classes are: T-shirt/top, Trouser, Pullover, Dress, Coat, Sandal, Shirt, Sneaker, Bag, Ankle boot\n",
      "torch.Size([128, 1, 28, 28]) <class 'torch.Tensor'> torch.Size([128])\n"
     ]
    }
   ],
   "source": [
    "BATCH_SIZE = 128\n",
    "fashin_train = datasets.FashionMNIST(root=ROOT,\n",
    "                                     train=True,\n",
    "                                     download=True,\n",
    "                                     transform=transforms.ToTensor())\n",
    "fashin_test = datasets.FashionMNIST(root=ROOT,\n",
    "                                    train=False,\n",
    "                                     transform=transforms.ToTensor())\n",
    "print('The training data classes are:', ', '.join(fashin_train.classes))\n",
    "classes = fashin_train.classes\n",
    "N_CLASSES = len(classes)\n",
    "train_loader = torch.utils.data.DataLoader(fashin_train,\n",
    "                                           batch_size = BATCH_SIZE,\n",
    "                                           shuffle=True)\n",
    "test_loader = torch.utils.data.DataLoader(fashin_test,\n",
    "                                           batch_size = BATCH_SIZE,\n",
    "                                          shuffle=True)\n",
    "## checking out our data\n",
    "example_iter = iter(train_loader)\n",
    "example_image, example_label = next(example_iter)\n",
    "IN_CHANNELS = example_image.shape[1]\n",
    "N_INPUTS = example_image.shape[2]\n",
    "print(example_image.shape, type(example_image), example_label.shape)"
   ]
  },
  {
   "cell_type": "code",
   "execution_count": 113,
   "metadata": {
    "colab": {
     "base_uri": "https://localhost:8080/",
     "height": 307
    },
    "id": "2Cmj39IMn_eE",
    "outputId": "4af25b28-a23b-460f-dfd6-fa58027615ed"
   },
   "outputs": [
    {
     "data": {
      "image/png": "[encoded data removed]",
      "text/plain": [
       "<Figure size 400x400 with 8 Axes>"
      ]
     },
     "metadata": {},
     "output_type": "display_data"
    }
   ],
   "source": [
    "## plot some examples\n",
    "fig, ax = plt.subplots(nrows=2, ncols=4, figsize = (4, 4))\n",
    "c = 0\n",
    "for i in range(2):\n",
    "  for j in range(4):\n",
    "    ax[i, j].imshow(torch.permute(example_image[c], [1,2,0])\n",
    "    , cmap='Greys')\n",
    "    ax[i, j].set_title(classes[example_label[c].item()])\n",
    "    c+=1\n",
    "    ax[i, j].set_axis_off()\n",
    "fig.tight_layout();"
   ]
  },
  {
   "cell_type": "markdown",
   "metadata": {
    "id": "gYU7uEo9szfg"
   },
   "source": [
    "<a name = mnfcnnmodel> </a>\n",
    "Starting with our CNN model"
   ]
  },
  {
   "cell_type": "code",
   "execution_count": 121,
   "metadata": {
    "colab": {
     "base_uri": "https://localhost:8080/"
    },
    "id": "QWB2LfnWn_bD",
    "outputId": "25446244-f16a-4d3a-b9d6-ea0e1e7081b6"
   },
   "outputs": [
    {
     "name": "stdout",
     "output_type": "stream",
     "text": [
      "Epoch: 0 - Average Loss:0.5988\n",
      "Epoch: 1 - Average Loss:0.3717\n",
      "Epoch: 2 - Average Loss:0.3163\n",
      "Epoch: 3 - Average Loss:0.2831\n",
      "Epoch: 4 - Average Loss:0.2613\n"
     ]
    }
   ],
   "source": [
    "## starting with the model\n",
    "class Classifier(nn.Module):\n",
    "  def __init__(self, n_channels, n_inputs, n_hidden, n_classes):\n",
    "    super().__init__()\n",
    "    self.conv1 = nn.Conv2d(n_channels, n_inputs, 5)\n",
    "    self.conv2 = nn.Conv2d(n_inputs, n_hidden, 5)\n",
    "    self.pool = nn.MaxPool2d(2,2)\n",
    "    self.relu = nn.ReLU()\n",
    "    self.l1 = nn.Linear(in_features= n_hidden*4*4,\n",
    "                        out_features=n_hidden)\n",
    "    self.l2 = nn.Linear(in_features=n_hidden,\n",
    "                        out_features=n_classes)\n",
    "  def forward(self, x:torch.tensor) -> torch.tensor:\n",
    "    out = self.pool(self.relu(self.conv1(x)))\n",
    "    out = self.pool(self.relu(self.conv2(out)))\n",
    "    out = torch.flatten(out, 1)\n",
    "    out = self.l1(out)\n",
    "    return self.l2(out)\n",
    "\n",
    "learning_rate = 1e-3\n",
    "model_2 = Classifier(n_channels=IN_CHANNELS,\n",
    "                     n_inputs=N_INPUTS,\n",
    "                     n_hidden=8**2,\n",
    "                     n_classes=N_CLASSES).to(device)\n",
    "## starting with the loss and optimizer\n",
    "loss_fn = nn.CrossEntropyLoss()\n",
    "optimizer = torch.optim.Adam(params = model_2.parameters(),\n",
    "                             lr=learning_rate)\n",
    "\n",
    "## starting with the training loop\n",
    "epochs = 5\n",
    "avg_loss = 0.0\n",
    "start = timer()\n",
    "for e in tqdm(range(epochs)):\n",
    "  for image, labels in train_loader:\n",
    "    image, labels = image.to(device), labels.to(device)\n",
    "    pred_labels = model_2(image)\n",
    "    loss = loss_fn(pred_labels, labels)\n",
    "    optimizer.zero_grad()\n",
    "    loss.backward()\n",
    "    optimizer.step()\n",
    "    avg_loss += loss.item()\n",
    "  print(f'Epoch: {e} - Average Loss:{avg_loss/len(train_loader):.4f}')\n",
    "  avg_loss = 0.0\n",
    "end = timer()\n",
    "print(f'Time taken: {(end - start):.3f}')"
   ]
  },
  {
   "cell_type": "code",
   "execution_count": 122,
   "metadata": {
    "colab": {
     "base_uri": "https://localhost:8080/"
    },
    "id": "2-dhNDjIZo1b",
    "outputId": "334f8501-8e1c-48b4-f721-b58bdad10d47"
   },
   "outputs": [
    {
     "name": "stdout",
     "output_type": "stream",
     "text": [
      "The average test loss: 0.2968\n"
     ]
    }
   ],
   "source": [
    "## the testing loop\n",
    "model_2.eval()\n",
    "avg_test_loss = 0\n",
    "with torch.inference_mode():\n",
    "  for test_image, test_label in test_loader:\n",
    "    test_image, test_label = test_image.to(device), test_label.to(device)\n",
    "    test_pred = model_2(test_image)\n",
    "    test_loss = loss_fn(test_pred, test_label)\n",
    "    avg_test_loss += test_loss.item()\n",
    "  print(f'The average test loss: {avg_test_loss/len(test_loader):.4}')"
   ]
  },
  {
   "cell_type": "code",
   "execution_count": null,
   "metadata": {
    "id": "2OUUMBxzZW2D"
   },
   "outputs": [],
   "source": []
  }
 ],
 "metadata": {
  "colab": {
   "provenance": []
  },
  "kernelspec": {
   "display_name": "Python 3 (ipykernel)",
   "language": "python",
   "name": "python3"
  },
  "language_info": {
   "codemirror_mode": {
    "name": "ipython",
    "version": 3
   },
   "file_extension": ".py",
   "mimetype": "text/x-python",
   "name": "python",
   "nbconvert_exporter": "python",
   "pygments_lexer": "ipython3",
   "version": "3.11.7"
  },
  "widgets": {
   "application/vnd.jupyter.widget-state+json": {
    "3ace971859614448a7c2433d57c1a70b": {
     "model_module": "@jupyter-widgets/controls",
     "model_module_version": "1.5.0",
     "model_name": "DescriptionStyleModel",
     "state": {
      "_model_module": "@jupyter-widgets/controls",
      "_model_module_version": "1.5.0",
      "_model_name": "DescriptionStyleModel",
      "_view_count": null,
      "_view_module": "@jupyter-widgets/base",
      "_view_module_version": "1.2.0",
      "_view_name": "StyleView",
      "description_width": ""
     }
    },
    "3b5711d036ed4fcf97c099f29714dfaf": {
     "model_module": "@jupyter-widgets/base",
     "model_module_version": "1.2.0",
     "model_name": "LayoutModel",
     "state": {
      "_model_module": "@jupyter-widgets/base",
      "_model_module_version": "1.2.0",
      "_model_name": "LayoutModel",
      "_view_count": null,
      "_view_module": "@jupyter-widgets/base",
      "_view_module_version": "1.2.0",
      "_view_name": "LayoutView",
      "align_content": null,
      "align_items": null,
      "align_self": null,
      "border": null,
      "bottom": null,
      "display": null,
      "flex": null,
      "flex_flow": null,
      "grid_area": null,
      "grid_auto_columns": null,
      "grid_auto_flow": null,
      "grid_auto_rows": null,
      "grid_column": null,
      "grid_gap": null,
      "grid_row": null,
      "grid_template_areas": null,
      "grid_template_columns": null,
      "grid_template_rows": null,
      "height": null,
      "justify_content": null,
      "justify_items": null,
      "left": null,
      "margin": null,
      "max_height": null,
      "max_width": null,
      "min_height": null,
      "min_width": null,
      "object_fit": null,
      "object_position": null,
      "order": null,
      "overflow": null,
      "overflow_x": null,
      "overflow_y": null,
      "padding": null,
      "right": null,
      "top": null,
      "visibility": null,
      "width": null
     }
    },
    "3f78aabaacaa40b1875f36d25d47cb72": {
     "model_module": "@jupyter-widgets/controls",
     "model_module_version": "1.5.0",
     "model_name": "DescriptionStyleModel",
     "state": {
      "_model_module": "@jupyter-widgets/controls",
      "_model_module_version": "1.5.0",
      "_model_name": "DescriptionStyleModel",
      "_view_count": null,
      "_view_module": "@jupyter-widgets/base",
      "_view_module_version": "1.2.0",
      "_view_name": "StyleView",
      "description_width": ""
     }
    },
    "46c696f5b07e4ed69c29eb5be0a554e1": {
     "model_module": "@jupyter-widgets/controls",
     "model_module_version": "1.5.0",
     "model_name": "HTMLModel",
     "state": {
      "_dom_classes": [],
      "_model_module": "@jupyter-widgets/controls",
      "_model_module_version": "1.5.0",
      "_model_name": "HTMLModel",
      "_view_count": null,
      "_view_module": "@jupyter-widgets/controls",
      "_view_module_version": "1.5.0",
      "_view_name": "HTMLView",
      "description": "",
      "description_tooltip": null,
      "layout": "IPY_MODEL_5587b98957214f39a5dca88cff71e893",
      "placeholder": "​",
      "style": "IPY_MODEL_3ace971859614448a7c2433d57c1a70b",
      "value": " 4/4 [04:08&lt;00:00, 61.17s/it]"
     }
    },
    "52fa7c1c5aa1432db9c60970dbef5e17": {
     "model_module": "@jupyter-widgets/base",
     "model_module_version": "1.2.0",
     "model_name": "LayoutModel",
     "state": {
      "_model_module": "@jupyter-widgets/base",
      "_model_module_version": "1.2.0",
      "_model_name": "LayoutModel",
      "_view_count": null,
      "_view_module": "@jupyter-widgets/base",
      "_view_module_version": "1.2.0",
      "_view_name": "LayoutView",
      "align_content": null,
      "align_items": null,
      "align_self": null,
      "border": null,
      "bottom": null,
      "display": null,
      "flex": null,
      "flex_flow": null,
      "grid_area": null,
      "grid_auto_columns": null,
      "grid_auto_flow": null,
      "grid_auto_rows": null,
      "grid_column": null,
      "grid_gap": null,
      "grid_row": null,
      "grid_template_areas": null,
      "grid_template_columns": null,
      "grid_template_rows": null,
      "height": null,
      "justify_content": null,
      "justify_items": null,
      "left": null,
      "margin": null,
      "max_height": null,
      "max_width": null,
      "min_height": null,
      "min_width": null,
      "object_fit": null,
      "object_position": null,
      "order": null,
      "overflow": null,
      "overflow_x": null,
      "overflow_y": null,
      "padding": null,
      "right": null,
      "top": null,
      "visibility": null,
      "width": null
     }
    },
    "5587b98957214f39a5dca88cff71e893": {
     "model_module": "@jupyter-widgets/base",
     "model_module_version": "1.2.0",
     "model_name": "LayoutModel",
     "state": {
      "_model_module": "@jupyter-widgets/base",
      "_model_module_version": "1.2.0",
      "_model_name": "LayoutModel",
      "_view_count": null,
      "_view_module": "@jupyter-widgets/base",
      "_view_module_version": "1.2.0",
      "_view_name": "LayoutView",
      "align_content": null,
      "align_items": null,
      "align_self": null,
      "border": null,
      "bottom": null,
      "display": null,
      "flex": null,
      "flex_flow": null,
      "grid_area": null,
      "grid_auto_columns": null,
      "grid_auto_flow": null,
      "grid_auto_rows": null,
      "grid_column": null,
      "grid_gap": null,
      "grid_row": null,
      "grid_template_areas": null,
      "grid_template_columns": null,
      "grid_template_rows": null,
      "height": null,
      "justify_content": null,
      "justify_items": null,
      "left": null,
      "margin": null,
      "max_height": null,
      "max_width": null,
      "min_height": null,
      "min_width": null,
      "object_fit": null,
      "object_position": null,
      "order": null,
      "overflow": null,
      "overflow_x": null,
      "overflow_y": null,
      "padding": null,
      "right": null,
      "top": null,
      "visibility": null,
      "width": null
     }
    },
    "7f491459369f4ae2ae554b259fe6d550": {
     "model_module": "@jupyter-widgets/controls",
     "model_module_version": "1.5.0",
     "model_name": "FloatProgressModel",
     "state": {
      "_dom_classes": [],
      "_model_module": "@jupyter-widgets/controls",
      "_model_module_version": "1.5.0",
      "_model_name": "FloatProgressModel",
      "_view_count": null,
      "_view_module": "@jupyter-widgets/controls",
      "_view_module_version": "1.5.0",
      "_view_name": "ProgressView",
      "bar_style": "success",
      "description": "",
      "description_tooltip": null,
      "layout": "IPY_MODEL_d7ce517ae3ef43b39d8bda6e435cb22a",
      "max": 4,
      "min": 0,
      "orientation": "horizontal",
      "style": "IPY_MODEL_a737c67344d64bd7a1fd9395e2480051",
      "value": 4
     }
    },
    "9105e6597a8340baa3b42bc00a3f3930": {
     "model_module": "@jupyter-widgets/controls",
     "model_module_version": "1.5.0",
     "model_name": "HBoxModel",
     "state": {
      "_dom_classes": [],
      "_model_module": "@jupyter-widgets/controls",
      "_model_module_version": "1.5.0",
      "_model_name": "HBoxModel",
      "_view_count": null,
      "_view_module": "@jupyter-widgets/controls",
      "_view_module_version": "1.5.0",
      "_view_name": "HBoxView",
      "box_style": "",
      "children": [
       "IPY_MODEL_fdf25a05352145cbae45f0a123056697",
       "IPY_MODEL_7f491459369f4ae2ae554b259fe6d550",
       "IPY_MODEL_46c696f5b07e4ed69c29eb5be0a554e1"
      ],
      "layout": "IPY_MODEL_52fa7c1c5aa1432db9c60970dbef5e17"
     }
    },
    "a737c67344d64bd7a1fd9395e2480051": {
     "model_module": "@jupyter-widgets/controls",
     "model_module_version": "1.5.0",
     "model_name": "ProgressStyleModel",
     "state": {
      "_model_module": "@jupyter-widgets/controls",
      "_model_module_version": "1.5.0",
      "_model_name": "ProgressStyleModel",
      "_view_count": null,
      "_view_module": "@jupyter-widgets/base",
      "_view_module_version": "1.2.0",
      "_view_name": "StyleView",
      "bar_color": null,
      "description_width": ""
     }
    },
    "d7ce517ae3ef43b39d8bda6e435cb22a": {
     "model_module": "@jupyter-widgets/base",
     "model_module_version": "1.2.0",
     "model_name": "LayoutModel",
     "state": {
      "_model_module": "@jupyter-widgets/base",
      "_model_module_version": "1.2.0",
      "_model_name": "LayoutModel",
      "_view_count": null,
      "_view_module": "@jupyter-widgets/base",
      "_view_module_version": "1.2.0",
      "_view_name": "LayoutView",
      "align_content": null,
      "align_items": null,
      "align_self": null,
      "border": null,
      "bottom": null,
      "display": null,
      "flex": null,
      "flex_flow": null,
      "grid_area": null,
      "grid_auto_columns": null,
      "grid_auto_flow": null,
      "grid_auto_rows": null,
      "grid_column": null,
      "grid_gap": null,
      "grid_row": null,
      "grid_template_areas": null,
      "grid_template_columns": null,
      "grid_template_rows": null,
      "height": null,
      "justify_content": null,
      "justify_items": null,
      "left": null,
      "margin": null,
      "max_height": null,
      "max_width": null,
      "min_height": null,
      "min_width": null,
      "object_fit": null,
      "object_position": null,
      "order": null,
      "overflow": null,
      "overflow_x": null,
      "overflow_y": null,
      "padding": null,
      "right": null,
      "top": null,
      "visibility": null,
      "width": null
     }
    },
    "fdf25a05352145cbae45f0a123056697": {
     "model_module": "@jupyter-widgets/controls",
     "model_module_version": "1.5.0",
     "model_name": "HTMLModel",
     "state": {
      "_dom_classes": [],
      "_model_module": "@jupyter-widgets/controls",
      "_model_module_version": "1.5.0",
      "_model_name": "HTMLModel",
      "_view_count": null,
      "_view_module": "@jupyter-widgets/controls",
      "_view_module_version": "1.5.0",
      "_view_name": "HTMLView",
      "description": "",
      "description_tooltip": null,
      "layout": "IPY_MODEL_3b5711d036ed4fcf97c099f29714dfaf",
      "placeholder": "​",
      "style": "IPY_MODEL_3f78aabaacaa40b1875f36d25d47cb72",
      "value": "100%"
     }
    }
   }
  }
 },
 "nbformat": 4,
 "nbformat_minor": 4
}
