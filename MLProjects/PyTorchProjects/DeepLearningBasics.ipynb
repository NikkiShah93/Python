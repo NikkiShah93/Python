{
 "cells": [
  {
   "cell_type": "markdown",
   "id": "703a44bd-3b23-4629-90e0-c7cbc08bba89",
   "metadata": {},
   "source": [
    "## Deep Learning with PyTorch"
   ]
  },
  {
   "cell_type": "code",
   "execution_count": 1,
   "id": "b7a2535b-e28f-4dcd-8ae7-c92f289beb26",
   "metadata": {},
   "outputs": [],
   "source": [
    "## first the imports\n",
    "import numpy as np\n",
    "import matplotlib.pyplot as plt\n",
    "import torch\n",
    "import torchvision"
   ]
  },
  {
   "cell_type": "code",
   "execution_count": 6,
   "id": "ed81832b-2550-45ad-8257-d667a8882cbf",
   "metadata": {},
   "outputs": [
    {
     "data": {
      "text/plain": [
       "tensor([[0.1754, 0.1058, 0.1019, 0.0212, 0.0171, 0.0048, 0.3038],\n",
       "        [0.1197, 0.1485, 0.0708, 0.1474, 0.1097, 0.6186, 0.0899],\n",
       "        [0.1306, 0.0936, 0.0011, 0.1996, 0.0993, 0.6678, 0.2026],\n",
       "        [0.1788, 0.1209, 0.0739, 0.2539, 0.0732, 0.6599, 0.3612],\n",
       "        [0.2090, 0.0042, 0.0345, 0.2195, 0.0164, 0.7581, 0.2014],\n",
       "        [0.1831, 0.1187, 0.0312, 0.1449, 0.0985, 0.2456, 0.0252],\n",
       "        [0.2208, 0.0906, 0.0399, 0.1621, 0.0012, 0.1110, 0.2460]])"
      ]
     },
     "execution_count": 6,
     "metadata": {},
     "output_type": "execute_result"
    }
   ],
   "source": [
    "rand_terns = torch.rand(7,7)\n",
    "sec_ran = torch.rand(1,7)\n",
    "sec_ran.mul(rand_terns)\n",
    "rand_terns.T.mul(sec_ran)"
   ]
  },
  {
   "cell_type": "code",
   "execution_count": 14,
   "id": "3bdd0f7e-2e09-43a6-b1b7-82278669ca37",
   "metadata": {},
   "outputs": [
    {
     "data": {
      "text/plain": [
       "tensor([[0.2392, 0.6298, 0.0882, 0.0922, 0.1745, 0.5296, 0.1008],\n",
       "        [0.4320, 0.3735, 0.6305, 0.2437, 0.2280, 0.0186, 0.0347],\n",
       "        [0.1416, 0.4251, 0.6956, 0.5588, 0.0914, 0.2358, 0.1401],\n",
       "        [0.4411, 0.3255, 0.8716, 0.2929, 0.3138, 0.7958, 0.0074],\n",
       "        [0.0893, 0.3061, 0.3042, 0.6509, 0.0998, 0.2254, 0.0310],\n",
       "        [0.0153, 0.1706, 0.9271, 0.5050, 0.4213, 0.4396, 0.0501],\n",
       "        [0.2817, 0.0272, 0.1383, 0.1692, 0.4628, 0.6625, 0.0572]])"
      ]
     },
     "execution_count": 14,
     "metadata": {},
     "output_type": "execute_result"
    }
   ],
   "source": [
    "rand_seed = 0\n",
    "torch.manual_seed(rand_seed)\n",
    "rand_terns = torch.rand(7,7)\n",
    "sec_ran = torch.rand(1,7)\n",
    "sec_ran.mul(rand_terns)"
   ]
  },
  {
   "cell_type": "code",
   "execution_count": 11,
   "id": "75171d79-f40e-44e0-a2a7-ff2c167d85ab",
   "metadata": {},
   "outputs": [],
   "source": []
  },
  {
   "cell_type": "code",
   "execution_count": null,
   "id": "bfbeae0d-2b5e-4ea7-a7b8-903b7affa8b6",
   "metadata": {},
   "outputs": [],
   "source": []
  }
 ],
 "metadata": {
  "kernelspec": {
   "display_name": "Python 3 (ipykernel)",
   "language": "python",
   "name": "python3"
  },
  "language_info": {
   "codemirror_mode": {
    "name": "ipython",
    "version": 3
   },
   "file_extension": ".py",
   "mimetype": "text/x-python",
   "name": "python",
   "nbconvert_exporter": "python",
   "pygments_lexer": "ipython3",
   "version": "3.9.13"
  }
 },
 "nbformat": 4,
 "nbformat_minor": 5
}
