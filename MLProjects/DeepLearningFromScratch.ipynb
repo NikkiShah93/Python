{
 "cells": [
  {
   "cell_type": "markdown",
   "id": "2c16afa8-4894-45d0-a79d-f89fc60c26fe",
   "metadata": {},
   "source": [
    "## Deep Learning from Ground Up\n",
    "\n",
    "In this notebook, we are working our way up from Linear Regression, all the way to Deep Learning."
   ]
  },
  {
   "cell_type": "code",
   "execution_count": 2,
   "id": "6c1d7c54-b81c-442c-80a8-ea95d4499912",
   "metadata": {},
   "outputs": [],
   "source": [
    "## first the imports\n",
    "import numpy as np\n",
    "import pandas as pd\n",
    "import matplotlib.pyplot as plt"
   ]
  },
  {
   "cell_type": "code",
   "execution_count": null,
   "id": "1a411063-98a4-4aff-89de-27b92924ad1f",
   "metadata": {},
   "outputs": [],
   "source": [
    "## creating some random data\n"
   ]
  }
 ],
 "metadata": {
  "kernelspec": {
   "display_name": "Python 3 (ipykernel)",
   "language": "python",
   "name": "python3"
  },
  "language_info": {
   "codemirror_mode": {
    "name": "ipython",
    "version": 3
   },
   "file_extension": ".py",
   "mimetype": "text/x-python",
   "name": "python",
   "nbconvert_exporter": "python",
   "pygments_lexer": "ipython3",
   "version": "3.9.13"
  }
 },
 "nbformat": 4,
 "nbformat_minor": 5
}
